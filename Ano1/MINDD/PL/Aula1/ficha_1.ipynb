{
 "cells": [
  {
   "cell_type": "code",
   "execution_count": 1,
   "metadata": {},
   "outputs": [],
   "source": [
    "import pandas as pd\n",
    "import scipy as sc\n",
    "import numpy as np\n",
    "import matplotlib.pyplot as plt "
   ]
  },
  {
   "cell_type": "code",
   "execution_count": 2,
   "metadata": {},
   "outputs": [
    {
     "name": "stdout",
     "output_type": "stream",
     "text": [
      "              Name            Team  Number Position   Age Height  Weight  \\\n",
      "0    Avery Bradley  Boston Celtics     0.0       PG  25.0    6-2   180.0   \n",
      "1      Jae Crowder  Boston Celtics    99.0       SF  25.0    6-6   235.0   \n",
      "2     John Holland  Boston Celtics    30.0       SG  27.0    6-5   205.0   \n",
      "3      R.J. Hunter  Boston Celtics    28.0       SG  22.0    6-5   185.0   \n",
      "4    Jonas Jerebko  Boston Celtics     8.0       PF  29.0   6-10   231.0   \n",
      "..             ...             ...     ...      ...   ...    ...     ...   \n",
      "453   Shelvin Mack       Utah Jazz     8.0       PG  26.0    6-3   203.0   \n",
      "454      Raul Neto       Utah Jazz    25.0       PG  24.0    6-1   179.0   \n",
      "455   Tibor Pleiss       Utah Jazz    21.0        C  26.0    7-3   256.0   \n",
      "456    Jeff Withey       Utah Jazz    24.0        C  26.0    7-0   231.0   \n",
      "457            NaN             NaN     NaN      NaN   NaN    NaN     NaN   \n",
      "\n",
      "               College     Salary  \n",
      "0                Texas  7730337.0  \n",
      "1            Marquette  6796117.0  \n",
      "2    Boston University        NaN  \n",
      "3        Georgia State  1148640.0  \n",
      "4                  NaN  5000000.0  \n",
      "..                 ...        ...  \n",
      "453             Butler  2433333.0  \n",
      "454                NaN   900000.0  \n",
      "455                NaN  2900000.0  \n",
      "456             Kansas   947276.0  \n",
      "457                NaN        NaN  \n",
      "\n",
      "[458 rows x 9 columns]\n"
     ]
    }
   ],
   "source": [
    "#ex1\n",
    "df = pd.read_csv(\"nba.csv\")\n",
    "print(df)"
   ]
  },
  {
   "cell_type": "code",
   "execution_count": 3,
   "metadata": {},
   "outputs": [
    {
     "name": "stdout",
     "output_type": "stream",
     "text": [
      "Número de linhas: 458\n",
      "Número de colunas: 9\n",
      "Index(['Name', 'Team', 'Number', 'Position', 'Age', 'Height', 'Weight',\n",
      "       'College', 'Salary'],\n",
      "      dtype='object')\n"
     ]
    }
   ],
   "source": [
    "#ex2\n",
    "print('Número de linhas: '+ str(len(df))) # number of rows\n",
    "print('Número de colunas: '+str(len(df.columns))) #number of columns\n",
    "print(df.columns)  #columns'names\n"
   ]
  },
  {
   "cell_type": "code",
   "execution_count": 4,
   "metadata": {},
   "outputs": [
    {
     "name": "stdout",
     "output_type": "stream",
     "text": [
      "Index(['Name', 'Team', 'Number', 'Position', 'Age', 'Height', 'Weight',\n",
      "       'College', 'Salary'],\n",
      "      dtype='object')\n"
     ]
    }
   ],
   "source": [
    "#ex3\n",
    "#ver apenas o nome das colunas\n",
    "df_names = df.columns\n",
    "print(df_names)\n"
   ]
  },
  {
   "cell_type": "code",
   "execution_count": 5,
   "metadata": {},
   "outputs": [
    {
     "name": "stdout",
     "output_type": "stream",
     "text": [
      "Tamanho do dataframe: 4122\n"
     ]
    }
   ],
   "source": [
    "#ex4\n",
    "print('Tamanho do dataframe: '+str(df.size))"
   ]
  },
  {
   "cell_type": "code",
   "execution_count": 6,
   "metadata": {},
   "outputs": [
    {
     "name": "stdout",
     "output_type": "stream",
     "text": [
      "           Number         Age      Weight        Salary\n",
      "count  457.000000  457.000000  457.000000  4.460000e+02\n",
      "mean    17.678337   26.938731  221.522976  4.842684e+06\n",
      "std     15.966090    4.404016   26.368343  5.229238e+06\n",
      "min      0.000000   19.000000  161.000000  3.088800e+04\n",
      "25%      5.000000   24.000000  200.000000  1.044792e+06\n",
      "50%     13.000000   26.000000  220.000000  2.839073e+06\n",
      "75%     25.000000   30.000000  240.000000  6.500000e+06\n",
      "max     99.000000   40.000000  307.000000  2.500000e+07\n"
     ]
    }
   ],
   "source": [
    "#ex5\n",
    "numerical_stats = df.describe()\n",
    "print(numerical_stats)"
   ]
  },
  {
   "cell_type": "code",
   "execution_count": 7,
   "metadata": {},
   "outputs": [
    {
     "name": "stdout",
     "output_type": "stream",
     "text": [
      "            Name            Team  Number Position   Age Height  Weight  \\\n",
      "0  Avery Bradley  Boston Celtics     0.0       PG  25.0    6-2   180.0   \n",
      "1    Jae Crowder  Boston Celtics    99.0       SF  25.0    6-6   235.0   \n",
      "2   John Holland  Boston Celtics    30.0       SG  27.0    6-5   205.0   \n",
      "3    R.J. Hunter  Boston Celtics    28.0       SG  22.0    6-5   185.0   \n",
      "4  Jonas Jerebko  Boston Celtics     8.0       PF  29.0   6-10   231.0   \n",
      "\n",
      "             College     Salary  \n",
      "0              Texas  7730337.0  \n",
      "1          Marquette  6796117.0  \n",
      "2  Boston University        NaN  \n",
      "3      Georgia State  1148640.0  \n",
      "4                NaN  5000000.0  \n",
      "             Name       Team  Number Position   Age Height  Weight College  \\\n",
      "453  Shelvin Mack  Utah Jazz     8.0       PG  26.0    6-3   203.0  Butler   \n",
      "454     Raul Neto  Utah Jazz    25.0       PG  24.0    6-1   179.0     NaN   \n",
      "455  Tibor Pleiss  Utah Jazz    21.0        C  26.0    7-3   256.0     NaN   \n",
      "456   Jeff Withey  Utah Jazz    24.0        C  26.0    7-0   231.0  Kansas   \n",
      "457           NaN        NaN     NaN      NaN   NaN    NaN     NaN     NaN   \n",
      "\n",
      "        Salary  \n",
      "453  2433333.0  \n",
      "454   900000.0  \n",
      "455  2900000.0  \n",
      "456   947276.0  \n",
      "457        NaN  \n"
     ]
    }
   ],
   "source": [
    "#ex6\n",
    "#no fundo é só ver o a head e a tail\n",
    "print(df.head())\n",
    "print(df.tail())"
   ]
  },
  {
   "cell_type": "code",
   "execution_count": 8,
   "metadata": {},
   "outputs": [
    {
     "name": "stdout",
     "output_type": "stream",
     "text": [
      "0                  Texas\n",
      "1              Marquette\n",
      "2      Boston University\n",
      "3          Georgia State\n",
      "4                    NaN\n",
      "             ...        \n",
      "453               Butler\n",
      "454                  NaN\n",
      "455                  NaN\n",
      "456               Kansas\n",
      "457                  NaN\n",
      "Name: College, Length: 458, dtype: object\n"
     ]
    }
   ],
   "source": [
    "#ex7\n",
    "df_college = df['College']\n",
    "print(df_college)"
   ]
  },
  {
   "cell_type": "code",
   "execution_count": 9,
   "metadata": {},
   "outputs": [
    {
     "name": "stdout",
     "output_type": "stream",
     "text": [
      "                       Name Position         College\n",
      "15         Bojan Bogdanovic       SG             NaN\n",
      "16             Markel Brown       SG  Oklahoma State\n",
      "17          Wayne Ellington       SG  North Carolina\n",
      "18  Rondae Hollis-Jefferson       SG         Arizona\n",
      "19             Jarrett Jack       PG    Georgia Tech\n",
      "20           Sergey Karasev       SG             NaN\n"
     ]
    }
   ],
   "source": [
    "#ex8\n",
    "selection = df[['Name', 'Position', 'College']]\n",
    "selection = selection[15:21]\n",
    "print(selection)"
   ]
  },
  {
   "cell_type": "code",
   "execution_count": 10,
   "metadata": {},
   "outputs": [
    {
     "name": "stdout",
     "output_type": "stream",
     "text": [
      "                 Name                    Team  Number Position   Age Height  \\\n",
      "4       Jonas Jerebko          Boston Celtics     8.0       PF  29.0   6-10   \n",
      "5        Amir Johnson          Boston Celtics    90.0       PF  29.0    6-9   \n",
      "6       Jordan Mickey          Boston Celtics    55.0       PF  21.0    6-8   \n",
      "24   Chris McCullough           Brooklyn Nets     1.0       PF  21.0   6-11   \n",
      "25        Willie Reed           Brooklyn Nets    33.0       PF  26.0   6-10   \n",
      "..                ...                     ...     ...      ...   ...    ...   \n",
      "435    Meyers Leonard  Portland Trail Blazers    11.0       PF  24.0    7-1   \n",
      "441       Noah Vonleh  Portland Trail Blazers    21.0       PF  20.0    6-9   \n",
      "442     Trevor Booker               Utah Jazz    33.0       PF  28.0    6-8   \n",
      "446    Derrick Favors               Utah Jazz    15.0       PF  24.0   6-10   \n",
      "452        Trey Lyles               Utah Jazz    41.0       PF  20.0   6-10   \n",
      "\n",
      "     Weight       College      Salary  \n",
      "4     231.0           NaN   5000000.0  \n",
      "5     240.0           NaN  12000000.0  \n",
      "6     235.0           LSU   1170960.0  \n",
      "24    200.0      Syracuse   1140240.0  \n",
      "25    220.0   Saint Louis    947276.0  \n",
      "..      ...           ...         ...  \n",
      "435   245.0      Illinois   3075880.0  \n",
      "441   240.0       Indiana   2637720.0  \n",
      "442   228.0       Clemson   4775000.0  \n",
      "446   265.0  Georgia Tech  12000000.0  \n",
      "452   234.0      Kentucky   2239800.0  \n",
      "\n",
      "[100 rows x 9 columns]\n"
     ]
    }
   ],
   "source": [
    "#ex9\n",
    "players_pf = df.loc[df['Position'] == 'PF']\n",
    "print(players_pf)"
   ]
  },
  {
   "cell_type": "code",
   "execution_count": 11,
   "metadata": {},
   "outputs": [
    {
     "name": "stdout",
     "output_type": "stream",
     "text": [
      "New Orleans Pelicans      19\n",
      "Memphis Grizzlies         18\n",
      "New York Knicks           16\n",
      "Milwaukee Bucks           16\n",
      "Boston Celtics            15\n",
      "Brooklyn Nets             15\n",
      "Portland Trail Blazers    15\n",
      "Oklahoma City Thunder     15\n",
      "Denver Nuggets            15\n",
      "Washington Wizards        15\n",
      "Miami Heat                15\n",
      "Charlotte Hornets         15\n",
      "Atlanta Hawks             15\n",
      "San Antonio Spurs         15\n",
      "Houston Rockets           15\n",
      "Dallas Mavericks          15\n",
      "Indiana Pacers            15\n",
      "Detroit Pistons           15\n",
      "Cleveland Cavaliers       15\n",
      "Chicago Bulls             15\n",
      "Sacramento Kings          15\n",
      "Phoenix Suns              15\n",
      "Los Angeles Lakers        15\n",
      "Los Angeles Clippers      15\n",
      "Golden State Warriors     15\n",
      "Toronto Raptors           15\n",
      "Philadelphia 76ers        15\n",
      "Utah Jazz                 15\n",
      "Orlando Magic             14\n",
      "Minnesota Timberwolves    14\n",
      "Name: Team, dtype: int64\n"
     ]
    }
   ],
   "source": [
    "#ex10\n",
    "df_teams = df[['Team', 'Number']]\n",
    "df_teams_count = df_teams['Team'].value_counts()\n",
    "print(df_teams_count)"
   ]
  },
  {
   "cell_type": "code",
   "execution_count": 12,
   "metadata": {},
   "outputs": [
    {
     "name": "stdout",
     "output_type": "stream",
     "text": [
      "                  Name  Number Position   Age Height  Weight     College  \\\n",
      "106       Brandon Bass     2.0       PF  31.0    6-8   250.0         LSU   \n",
      "107        Tarik Black    28.0        C  24.0    6-9   250.0      Kansas   \n",
      "108      Anthony Brown     3.0       SF  23.0    6-7   210.0    Stanford   \n",
      "109        Kobe Bryant    24.0       SF  37.0    6-6   212.0         NaN   \n",
      "110    Jordan Clarkson     6.0       PG  24.0    6-5   194.0    Missouri   \n",
      "111        Roy Hibbert    17.0        C  29.0    7-2   270.0  Georgetown   \n",
      "112    Marcelo Huertas     9.0       PG  33.0    6-3   200.0         NaN   \n",
      "113         Ryan Kelly     4.0       PF  25.0   6-11   230.0        Duke   \n",
      "114    Larry Nance Jr.     7.0       PF  23.0    6-9   230.0     Wyoming   \n",
      "115      Julius Randle    30.0       PF  21.0    6-9   250.0    Kentucky   \n",
      "116   D'Angelo Russell     1.0       PG  20.0    6-5   195.0  Ohio State   \n",
      "117       Robert Sacre    50.0        C  27.0    7-0   270.0     Gonzaga   \n",
      "118     Louis Williams    23.0       SG  29.0    6-1   175.0         NaN   \n",
      "119  Metta World Peace    37.0       SF  36.0    6-7   260.0  St. John's   \n",
      "120         Nick Young     0.0       SF  31.0    6-7   210.0         USC   \n",
      "\n",
      "         Salary  \n",
      "106   3000000.0  \n",
      "107    845059.0  \n",
      "108    700000.0  \n",
      "109  25000000.0  \n",
      "110    845059.0  \n",
      "111  15592217.0  \n",
      "112    525093.0  \n",
      "113   1724250.0  \n",
      "114   1155600.0  \n",
      "115   3132240.0  \n",
      "116   5103120.0  \n",
      "117    981348.0  \n",
      "118   7000000.0  \n",
      "119    947276.0  \n",
      "120   5219169.0  \n"
     ]
    },
    {
     "name": "stderr",
     "output_type": "stream",
     "text": [
      "/tmp/ipykernel_7546/1207375971.py:3: SettingWithCopyWarning: \n",
      "A value is trying to be set on a copy of a slice from a DataFrame\n",
      "\n",
      "See the caveats in the documentation: https://pandas.pydata.org/pandas-docs/stable/user_guide/indexing.html#returning-a-view-versus-a-copy\n",
      "  LAL_players.drop(columns=['Team'], inplace = True)\n"
     ]
    }
   ],
   "source": [
    "#ex11\n",
    "LAL_players = df.loc[df['Team'] == 'Los Angeles Lakers']\n",
    "LAL_players.drop(columns=['Team'], inplace = True)\n",
    "print(LAL_players)"
   ]
  },
  {
   "cell_type": "code",
   "execution_count": 13,
   "metadata": {},
   "outputs": [
    {
     "name": "stdout",
     "output_type": "stream",
     "text": [
      "                   Name                Team  Number Position   Age Height  \\\n",
      "308          David West   San Antonio Spurs    30.0       PF  35.0    6-9   \n",
      "114     Larry Nance Jr.  Los Angeles Lakers     7.0       PF  23.0    6-9   \n",
      "231        Devin Harris    Dallas Mavericks    34.0       PG  33.0    6-3   \n",
      "129           Jon Leuer        Phoenix Suns    30.0       PF  27.0   6-10   \n",
      "145          Duje Dukan    Sacramento Kings    26.0       PF  24.0    6-9   \n",
      "..                  ...                 ...     ...      ...   ...    ...   \n",
      "40   Kristaps Porzingis     New York Knicks     6.0       PF  20.0    7-3   \n",
      "62        Bruno Caboclo     Toronto Raptors    20.0       SF  20.0    6-9   \n",
      "393     Emmanuel Mudiay      Denver Nuggets     0.0       PG  20.0    6-5   \n",
      "445          Dante Exum           Utah Jazz    11.0       PG  20.0    6-6   \n",
      "457                 NaN                 NaN     NaN      NaN   NaN    NaN   \n",
      "\n",
      "     Weight    College     Salary  \n",
      "308   250.0     Xavier  1499187.0  \n",
      "114   230.0    Wyoming  1155600.0  \n",
      "231   185.0  Wisconsin  4053446.0  \n",
      "129   228.0  Wisconsin  1035000.0  \n",
      "145   220.0  Wisconsin   525093.0  \n",
      "..      ...        ...        ...  \n",
      "40    240.0        NaN  4131720.0  \n",
      "62    205.0        NaN  1524000.0  \n",
      "393   200.0        NaN  3102240.0  \n",
      "445   190.0        NaN  3777720.0  \n",
      "457     NaN        NaN        NaN  \n",
      "\n",
      "[458 rows x 9 columns]\n"
     ]
    }
   ],
   "source": [
    "#ex12\n",
    "sorted_df = df.sort_values(by=['College', 'Age'], ascending=[False, False])\n",
    "print(sorted_df)"
   ]
  },
  {
   "cell_type": "code",
   "execution_count": 14,
   "metadata": {},
   "outputs": [
    {
     "name": "stdout",
     "output_type": "stream",
     "text": [
      "                Name                    Team  Number Position   Age Height  \\\n",
      "109      Kobe Bryant      Los Angeles Lakers    24.0       SF  37.0    6-6   \n",
      "169     LeBron James     Cleveland Cavaliers    23.0       SF  31.0    6-8   \n",
      "33   Carmelo Anthony         New York Knicks     7.0       SF  32.0    6-8   \n",
      "251    Dwight Howard         Houston Rockets    12.0        C  30.0   6-11   \n",
      "339       Chris Bosh              Miami Heat     1.0       PF  32.0   6-11   \n",
      "..               ...                     ...     ...      ...   ...    ...   \n",
      "350    Briante Weber              Miami Heat    12.0       PG  23.0    6-2   \n",
      "353    Dorell Wright              Miami Heat    11.0       SF  30.0    6-9   \n",
      "397     Axel Toupane          Denver Nuggets     6.0       SG  23.0    6-7   \n",
      "409       Greg Smith  Minnesota Timberwolves     4.0       PF  25.0   6-10   \n",
      "457              NaN                     NaN     NaN      NaN   NaN    NaN   \n",
      "\n",
      "     Weight                College      Salary  \n",
      "109   212.0                    NaN  25000000.0  \n",
      "169   250.0                    NaN  22970500.0  \n",
      "33    240.0               Syracuse  22875000.0  \n",
      "251   265.0                    NaN  22359364.0  \n",
      "339   235.0           Georgia Tech  22192730.0  \n",
      "..      ...                    ...         ...  \n",
      "350   165.0  Virginia Commonwealth         NaN  \n",
      "353   205.0                    NaN         NaN  \n",
      "397   210.0                    NaN         NaN  \n",
      "409   250.0           Fresno State         NaN  \n",
      "457     NaN                    NaN         NaN  \n",
      "\n",
      "[458 rows x 9 columns]\n"
     ]
    }
   ],
   "source": [
    "#ex13\n",
    "descending_salary = df.sort_values(by=['Salary'], ascending=[False])\n",
    "print(descending_salary)"
   ]
  },
  {
   "cell_type": "code",
   "execution_count": 15,
   "metadata": {},
   "outputs": [
    {
     "data": {
      "image/png": "[encoded data removed]",
      "text/plain": [
       "<Figure size 640x480 with 1 Axes>"
      ]
     },
     "metadata": {},
     "output_type": "display_data"
    }
   ],
   "source": [
    "#ex14\n",
    "SalaryDf = df['Salary'].hist(edgecolor='black')\n",
    "plt.xlabel('Salary')\n",
    "plt.ylabel('Frequency')\n",
    "plt.title('Salary Distribution')\n",
    "plt.show()"
   ]
  },
  {
   "cell_type": "code",
   "execution_count": 16,
   "metadata": {},
   "outputs": [
    {
     "data": {
      "image/png": "[encoded data removed]",
      "text/plain": [
       "<Figure size 640x480 with 1 Axes>"
      ]
     },
     "metadata": {},
     "output_type": "display_data"
    }
   ],
   "source": [
    "#ex15\n",
    "AgeDf = df.boxplot(column=['Age'])\n",
    "plt.show()"
   ]
  },
  {
   "cell_type": "code",
   "execution_count": 17,
   "metadata": {},
   "outputs": [
    {
     "data": {
      "image/png": "[encoded data removed]",
      "text/plain": [
       "<Figure size 640x480 with 1 Axes>"
      ]
     },
     "metadata": {},
     "output_type": "display_data"
    }
   ],
   "source": [
    "#ex16\n",
    "df.plot.scatter(x='Age', y='Salary', title='Age vs Salary')\n",
    "plt.show()"
   ]
  },
  {
   "cell_type": "code",
   "execution_count": 18,
   "metadata": {},
   "outputs": [
    {
     "name": "stdout",
     "output_type": "stream",
     "text": [
      "     Age        Salary\n",
      "0   19.0  1.930440e+06\n",
      "1   20.0  2.725791e+06\n",
      "2   21.0  2.067380e+06\n",
      "3   22.0  2.357963e+06\n",
      "4   23.0  2.034746e+06\n",
      "5   24.0  3.785300e+06\n",
      "6   25.0  3.930867e+06\n",
      "7   26.0  6.866566e+06\n",
      "8   27.0  6.676741e+06\n",
      "9   28.0  5.110189e+06\n",
      "10  29.0  6.224177e+06\n",
      "11  30.0  7.061859e+06\n",
      "12  31.0  8.511397e+06\n",
      "13  32.0  7.716958e+06\n",
      "14  33.0  3.930739e+06\n",
      "15  34.0  7.606030e+06\n",
      "16  35.0  3.461740e+06\n",
      "17  36.0  2.238120e+06\n",
      "18  37.0  1.277778e+07\n",
      "19  38.0  1.840041e+06\n",
      "20  39.0  2.517872e+06\n",
      "21  40.0  4.666917e+06\n"
     ]
    }
   ],
   "source": [
    "#ex17\n",
    "avg_salary = df.groupby('Age')['Salary'].mean().reset_index()\n",
    "\n",
    "print(avg_salary)"
   ]
  },
  {
   "cell_type": "code",
   "execution_count": 19,
   "metadata": {},
   "outputs": [
    {
     "name": "stdout",
     "output_type": "stream",
     "text": [
      "      Age      Salary\n",
      "0    25.0   7730337.0\n",
      "1    25.0   6796117.0\n",
      "64   26.0  10050000.0\n",
      "66   24.0   7000000.0\n",
      "82   26.0  14260870.0\n",
      "89   26.0  15501000.0\n",
      "116  20.0   5103120.0\n",
      "121  26.0  13500000.0\n",
      "127  24.0  13500000.0\n",
      "143  25.0  15851950.0\n",
      "153  26.0  16407500.0\n",
      "160  25.0   5543725.0\n",
      "168  24.0  16407501.0\n",
      "177  25.0   8988765.0\n",
      "179  25.0  14260870.0\n",
      "189  23.0  16000000.0\n",
      "191  26.0  13913044.0\n",
      "194  26.0   5000000.0\n",
      "199  26.0  17120106.0\n",
      "219  24.0  14700000.0\n",
      "220  26.0  16407500.0\n",
      "223  21.0   5152440.0\n",
      "249  26.0  15756438.0\n",
      "272  25.0   9000000.0\n",
      "281  23.0   7070730.0\n",
      "285  26.0  10734586.0\n",
      "290  25.0  10595507.0\n",
      "301  24.0  16407500.0\n",
      "332  22.0   6331404.0\n",
      "336  26.0  12000000.0\n",
      "359  26.0   8344497.0\n",
      "363  24.0   5192520.0\n",
      "366  25.0  11250000.0\n",
      "369  22.0   5694674.0\n",
      "376  26.0   8000000.0\n",
      "382  25.0  15851950.0\n",
      "387  26.0  11235955.0\n",
      "407  25.0  12700000.0\n",
      "410  20.0   5703600.0\n",
      "411  21.0   5758680.0\n",
      "417  26.0  12250000.0\n",
      "418  24.0  16407500.0\n",
      "425  24.0   5138430.0\n",
      "428  25.0   8042895.0\n",
      "444  24.0   9463484.0\n",
      "446  24.0  12000000.0\n",
      "448  26.0  15409570.0\n"
     ]
    }
   ],
   "source": [
    "#ex18\n",
    "avg_age = df['Age'].mean()\n",
    "avg_salary = df['Salary'].mean()\n",
    "players_df = df.loc[(df['Age'] < avg_age) & (df['Salary'] > avg_salary)]\n",
    "print(players_df[['Age', 'Salary']])"
   ]
  },
  {
   "cell_type": "code",
   "execution_count": 20,
   "metadata": {},
   "outputs": [
    {
     "name": "stdout",
     "output_type": "stream",
     "text": [
      "                        count          mean           std        min  \\\n",
      "Team                                                                   \n",
      "Atlanta Hawks            15.0  4.860197e+06  5.194508e+06   525093.0   \n",
      "Boston Celtics           14.0  4.181505e+06  3.146033e+06  1148640.0   \n",
      "Brooklyn Nets            15.0  3.501898e+06  5.317817e+06   134215.0   \n",
      "Charlotte Hornets        15.0  5.222728e+06  4.538601e+06   189455.0   \n",
      "Chicago Bulls            15.0  5.785559e+06  6.251088e+06   525093.0   \n",
      "Cleveland Cavaliers      14.0  7.642049e+06  7.730329e+06   111196.0   \n",
      "Dallas Mavericks         15.0  4.746582e+06  5.030279e+06   525093.0   \n",
      "Denver Nuggets           14.0  4.294424e+06  4.320214e+06   258489.0   \n",
      "Detroit Pistons          15.0  4.477884e+06  4.668478e+06   111444.0   \n",
      "Golden State Warriors    15.0  5.924600e+06  5.664282e+06   289755.0   \n",
      "Houston Rockets          15.0  5.018868e+06  6.414749e+06   200600.0   \n",
      "Indiana Pacers           15.0  4.450122e+06  4.584514e+06   211744.0   \n",
      "Los Angeles Clippers     15.0  6.323643e+06  7.600225e+06   111444.0   \n",
      "Los Angeles Lakers       15.0  4.784695e+06  6.835688e+06   525093.0   \n",
      "Memphis Grizzlies        14.0  5.467920e+06  5.201676e+06   700902.0   \n",
      "Miami Heat               13.0  6.347359e+06  7.848628e+06   261894.0   \n",
      "Milwaukee Bucks          16.0  4.350220e+06  4.875071e+06   295327.0   \n",
      "Minnesota Timberwolves   13.0  4.593054e+06  4.139625e+06   947276.0   \n",
      "New Orleans Pelicans     19.0  4.355304e+06  4.537874e+06    55722.0   \n",
      "New York Knicks          16.0  4.581494e+06  5.952487e+06    30888.0   \n",
      "Oklahoma City Thunder    15.0  6.251020e+06  6.632400e+06   222888.0   \n",
      "Orlando Magic            14.0  4.297248e+06  3.068412e+06   845059.0   \n",
      "Philadelphia 76ers       14.0  2.213778e+06  1.900402e+06   525093.0   \n",
      "Phoenix Suns             15.0  4.229676e+06  5.022561e+06    55722.0   \n",
      "Portland Trail Blazers   15.0  3.220121e+06  2.392741e+06   525093.0   \n",
      "Sacramento Kings         15.0  4.778911e+06  4.701792e+06   525093.0   \n",
      "San Antonio Spurs        15.0  5.629516e+06  6.396804e+06   200600.0   \n",
      "Toronto Raptors          15.0  4.741174e+06  4.195943e+06   245177.0   \n",
      "Utah Jazz                15.0  4.204006e+06  4.467878e+06   900000.0   \n",
      "Washington Wizards       15.0  5.088576e+06  4.869388e+06   200600.0   \n",
      "\n",
      "                               25%        50%          75%         max  \n",
      "Team                                                                    \n",
      "Atlanta Hawks           1152260.00  2854940.0   6873239.50  18671659.0  \n",
      "Boston Celtics          1909560.00  3021242.5   6347087.75  12000000.0  \n",
      "Brooklyn Nets            947276.00  1335480.0   2512675.00  19689000.0  \n",
      "Charlotte Hornets       1543138.00  4204200.0   6665702.00  13500000.0  \n",
      "Chicago Bulls           1203290.50  2380440.0   7974380.00  20093064.0  \n",
      "Cleveland Cavaliers     1179457.00  4975000.0  12942843.75  22970500.0  \n",
      "Dallas Mavericks        1185783.00  3950313.0   5289487.00  16407500.0  \n",
      "Denver Nuggets          1615789.75  2907000.0   4142083.25  14000000.0  \n",
      "Detroit Pistons         1711452.50  2891760.0   5635000.00  16000000.0  \n",
      "Golden State Warriors   1201462.00  3815000.0  11540621.00  15501000.0  \n",
      "Houston Rockets          973638.00  2288205.0   7339758.00  22359364.0  \n",
      "Indiana Pacers          1053513.00  4000000.0   5697112.50  17120106.0  \n",
      "Los Angeles Clippers    1024164.00  3110796.0   8367500.00  21468695.0  \n",
      "Los Angeles Lakers       896167.50  1724250.0   5161144.50  25000000.0  \n",
      "Memphis Grizzlies       1274280.00  4544009.5   8116000.00  19688000.0  \n",
      "Miami Heat               947276.00  2481720.0  10151612.00  22192730.0  \n",
      "Milwaukee Bucks         1483589.00  2254167.0   5514330.00  16407500.0  \n",
      "Minnesota Timberwolves  1474440.00  2148360.0   5758680.00  12700000.0  \n",
      "New Orleans Pelicans     981348.50  2850000.0   7785365.00  15514031.0  \n",
      "New York Knicks          921721.75  2225421.0   4949493.00  22875000.0  \n",
      "Oklahoma City Thunder   1742280.00  3344000.0   8694215.00  20158622.0  \n",
      "Orlando Magic           2311302.00  3956580.0   5144390.00  11250000.0  \n",
      "Philadelphia 76ers       947276.00  1037084.5   3310710.00   6500000.0  \n",
      "Phoenix Suns             964312.00  2041080.0   5500000.00  13500000.0  \n",
      "Portland Trail Blazers  1181398.00  2854940.0   4626143.50   8042895.0  \n",
      "Sacramento Kings         998384.50  3156600.0   6880303.00  15851950.0  \n",
      "San Antonio Spurs       1045078.00  2814000.0   8750000.00  19689000.0  \n",
      "Toronto Raptors         1683000.00  2900000.0   6634337.50  13600000.0  \n",
      "Utah Jazz               1262160.00  2433333.0   4276360.00  15409570.0  \n",
      "Washington Wizards      1510421.00  4000000.0   6847337.00  15851950.0  \n"
     ]
    }
   ],
   "source": [
    "#ex19\n",
    "team_df = df.groupby('Team')['Salary'].describe()\n",
    "print(team_df)"
   ]
  },
  {
   "cell_type": "code",
   "execution_count": 21,
   "metadata": {},
   "outputs": [
    {
     "data": {
      "image/png": "[encoded data removed]",
      "text/plain": [
       "<Figure size 640x480 with 1 Axes>"
      ]
     },
     "metadata": {},
     "output_type": "display_data"
    }
   ],
   "source": [
    "#ex20\n",
    "df.boxplot(column='Salary', by='Team')\n",
    "plt.show()"
   ]
  },
  {
   "cell_type": "code",
   "execution_count": 22,
   "metadata": {},
   "outputs": [
    {
     "name": "stdout",
     "output_type": "stream",
     "text": [
      "Position\n",
      "C     5.967052e+06\n",
      "PF    4.562483e+06\n",
      "PG    5.077829e+06\n",
      "SF    4.857393e+06\n",
      "SG    4.009861e+06\n",
      "Name: Salary, dtype: float64\n"
     ]
    }
   ],
   "source": [
    "#ex21\n",
    "position_salary_avg = df.groupby('Position')['Salary'].mean()\n",
    "print(position_salary_avg)"
   ]
  },
  {
   "cell_type": "code",
   "execution_count": 23,
   "metadata": {},
   "outputs": [
    {
     "data": {
      "image/png": "[encoded data removed]",
      "text/plain": [
       "<Figure size 640x480 with 1 Axes>"
      ]
     },
     "metadata": {},
     "output_type": "display_data"
    }
   ],
   "source": [
    "#ex22\n",
    "df.boxplot(column='Salary', by='Age')\n",
    "plt.show()"
   ]
  },
  {
   "cell_type": "code",
   "execution_count": 24,
   "metadata": {},
   "outputs": [
    {
     "name": "stdout",
     "output_type": "stream",
     "text": [
      "          count       mean       std   min   25%   50%    75%   max\n",
      "Position                                                           \n",
      "C          78.0  27.371795  4.156388  20.0  24.0  27.0  30.00  40.0\n",
      "PF        100.0  27.160000  4.607241  20.0  24.0  27.0  30.00  40.0\n",
      "PG         92.0  26.847826  4.169314  20.0  24.0  26.5  30.00  40.0\n",
      "SF         85.0  26.858824  4.386540  20.0  23.0  26.0  29.00  38.0\n",
      "SG        102.0  26.539216  4.643043  19.0  23.0  25.0  29.75  39.0\n"
     ]
    }
   ],
   "source": [
    "#ex23\n",
    "age_stats_df = df.groupby('Position')['Age'].describe()\n",
    "print(age_stats_df)"
   ]
  },
  {
   "cell_type": "code",
   "execution_count": 25,
   "metadata": {},
   "outputs": [
    {
     "name": "stdout",
     "output_type": "stream",
     "text": [
      "Name         1\n",
      "Team         1\n",
      "Number       1\n",
      "Position     1\n",
      "Age          1\n",
      "Height       1\n",
      "Weight       1\n",
      "College     85\n",
      "Salary      12\n",
      "dtype: int64\n"
     ]
    }
   ],
   "source": [
    "#ex24\n",
    "df_NaN_columns_count = df.isna().sum()\n",
    "print(df_NaN_columns_count)"
   ]
  },
  {
   "cell_type": "code",
   "execution_count": 26,
   "metadata": {},
   "outputs": [
    {
     "name": "stdout",
     "output_type": "stream",
     "text": [
      "              Name            Team  Number Position   Age Height  Weight  \\\n",
      "0    Avery Bradley  Boston Celtics     0.0       PG  25.0    6-2   180.0   \n",
      "1      Jae Crowder  Boston Celtics    99.0       SF  25.0    6-6   235.0   \n",
      "2     John Holland  Boston Celtics    30.0       SG  27.0    6-5   205.0   \n",
      "3      R.J. Hunter  Boston Celtics    28.0       SG  22.0    6-5   185.0   \n",
      "4    Jonas Jerebko  Boston Celtics     8.0       PF  29.0   6-10   231.0   \n",
      "..             ...             ...     ...      ...   ...    ...     ...   \n",
      "452     Trey Lyles       Utah Jazz    41.0       PF  20.0   6-10   234.0   \n",
      "453   Shelvin Mack       Utah Jazz     8.0       PG  26.0    6-3   203.0   \n",
      "454      Raul Neto       Utah Jazz    25.0       PG  24.0    6-1   179.0   \n",
      "455   Tibor Pleiss       Utah Jazz    21.0        C  26.0    7-3   256.0   \n",
      "456    Jeff Withey       Utah Jazz    24.0        C  26.0    7-0   231.0   \n",
      "\n",
      "               College     Salary  \n",
      "0                Texas  7730337.0  \n",
      "1            Marquette  6796117.0  \n",
      "2    Boston University        NaN  \n",
      "3        Georgia State  1148640.0  \n",
      "4                  NaN  5000000.0  \n",
      "..                 ...        ...  \n",
      "452           Kentucky  2239800.0  \n",
      "453             Butler  2433333.0  \n",
      "454                NaN   900000.0  \n",
      "455                NaN  2900000.0  \n",
      "456             Kansas   947276.0  \n",
      "\n",
      "[457 rows x 9 columns]\n"
     ]
    }
   ],
   "source": [
    "#ex25\n",
    "clean_df = df.dropna(subset=(['Name', 'Team', 'Number', 'Position', 'Age', 'Height', 'Weight']))\n",
    "print(clean_df)"
   ]
  },
  {
   "cell_type": "code",
   "execution_count": 27,
   "metadata": {},
   "outputs": [
    {
     "name": "stdout",
     "output_type": "stream",
     "text": [
      "          NA Count  NA Percentage (%)\n",
      "Name             1           0.218341\n",
      "Team             1           0.218341\n",
      "Number           1           0.218341\n",
      "Position         1           0.218341\n",
      "Age              1           0.218341\n",
      "Height           1           0.218341\n",
      "Weight           1           0.218341\n",
      "College         85          18.558952\n",
      "Salary          12           2.620087\n"
     ]
    }
   ],
   "source": [
    "#ex26\n",
    "na_count = df.isna().sum()\n",
    "\n",
    "na_percentage = na_count / len(df) * 100\n",
    "\n",
    "summary_df = pd.DataFrame({'NA Count': na_count, 'NA Percentage (%)': na_percentage})\n",
    "\n",
    "print(summary_df)"
   ]
  },
  {
   "cell_type": "code",
   "execution_count": 28,
   "metadata": {},
   "outputs": [
    {
     "name": "stdout",
     "output_type": "stream",
     "text": [
      "              Name            Team  Number Position   Age Height  Weight  \\\n",
      "0    Avery Bradley  Boston Celtics     0.0       PG  25.0    6-2   180.0   \n",
      "1      Jae Crowder  Boston Celtics    99.0       SF  25.0    6-6   235.0   \n",
      "2     John Holland  Boston Celtics    30.0       SG  27.0    6-5   205.0   \n",
      "3      R.J. Hunter  Boston Celtics    28.0       SG  22.0    6-5   185.0   \n",
      "4    Jonas Jerebko  Boston Celtics     8.0       PF  29.0   6-10   231.0   \n",
      "..             ...             ...     ...      ...   ...    ...     ...   \n",
      "453   Shelvin Mack       Utah Jazz     8.0       PG  26.0    6-3   203.0   \n",
      "454      Raul Neto       Utah Jazz    25.0       PG  24.0    6-1   179.0   \n",
      "455   Tibor Pleiss       Utah Jazz    21.0        C  26.0    7-3   256.0   \n",
      "456    Jeff Withey       Utah Jazz    24.0        C  26.0    7-0   231.0   \n",
      "457            NaN             NaN     NaN      NaN   NaN    NaN     NaN   \n",
      "\n",
      "               College     Salary  \n",
      "0                Texas  7730337.0  \n",
      "1            Marquette  6796117.0  \n",
      "2    Boston University        NaN  \n",
      "3        Georgia State  1148640.0  \n",
      "4           no College  5000000.0  \n",
      "..                 ...        ...  \n",
      "453             Butler  2433333.0  \n",
      "454         no College   900000.0  \n",
      "455         no College  2900000.0  \n",
      "456             Kansas   947276.0  \n",
      "457         no College        NaN  \n",
      "\n",
      "[458 rows x 9 columns]\n"
     ]
    }
   ],
   "source": [
    "#ex27\n",
    "new_df = df\n",
    "new_df['College'] = new_df['College'].replace([None], 'no College')\n",
    "\n",
    "print(new_df)"
   ]
  },
  {
   "cell_type": "code",
   "execution_count": 29,
   "metadata": {},
   "outputs": [
    {
     "name": "stdout",
     "output_type": "stream",
     "text": [
      "               Name                    Team  Number Position   Age Height  \\\n",
      "2      John Holland          Boston Celtics    30.0       SG  27.0    6-5   \n",
      "46      Elton Brand      Philadelphia 76ers    42.0       PF  37.0    6-9   \n",
      "171   Dahntay Jones     Cleveland Cavaliers    30.0       SG  35.0    6-6   \n",
      "264   Jordan Farmar       Memphis Grizzlies     4.0       PG  29.0    6-2   \n",
      "269    Ray McCallum       Memphis Grizzlies     5.0       PG  24.0    6-3   \n",
      "270  Xavier Munford       Memphis Grizzlies    14.0       PG  24.0    6-3   \n",
      "273  Alex Stepheson       Memphis Grizzlies    35.0       PF  28.0   6-10   \n",
      "350   Briante Weber              Miami Heat    12.0       PG  23.0    6-2   \n",
      "353   Dorell Wright              Miami Heat    11.0       SF  30.0    6-9   \n",
      "397    Axel Toupane          Denver Nuggets     6.0       SG  23.0    6-7   \n",
      "409      Greg Smith  Minnesota Timberwolves     4.0       PF  25.0   6-10   \n",
      "457             NaN                     NaN     NaN      NaN   NaN    NaN   \n",
      "\n",
      "     Weight                College  Salary  \n",
      "2     205.0      Boston University     NaN  \n",
      "46    254.0                   Duke     NaN  \n",
      "171   225.0                   Duke     NaN  \n",
      "264   180.0                   UCLA     NaN  \n",
      "269   190.0                Detroit     NaN  \n",
      "270   180.0           Rhode Island     NaN  \n",
      "273   270.0                    USC     NaN  \n",
      "350   165.0  Virginia Commonwealth     NaN  \n",
      "353   205.0             no College     NaN  \n",
      "397   210.0             no College     NaN  \n",
      "409   250.0           Fresno State     NaN  \n",
      "457     NaN             no College     NaN  \n"
     ]
    }
   ],
   "source": [
    "#ex28\n",
    "null_salary_rows = df[df['Salary'].isnull()]\n",
    "print(null_salary_rows)"
   ]
  },
  {
   "cell_type": "code",
   "execution_count": 30,
   "metadata": {},
   "outputs": [
    {
     "name": "stdout",
     "output_type": "stream",
     "text": [
      "              Name            Team  Number Position   Age Height  Weight  \\\n",
      "0    Avery Bradley  Boston Celtics     0.0       PG  25.0    6-2   180.0   \n",
      "1      Jae Crowder  Boston Celtics    99.0       SF  25.0    6-6   235.0   \n",
      "2     John Holland  Boston Celtics    30.0       SG  27.0    6-5   205.0   \n",
      "3      R.J. Hunter  Boston Celtics    28.0       SG  22.0    6-5   185.0   \n",
      "4    Jonas Jerebko  Boston Celtics     8.0       PF  29.0   6-10   231.0   \n",
      "..             ...             ...     ...      ...   ...    ...     ...   \n",
      "453   Shelvin Mack       Utah Jazz     8.0       PG  26.0    6-3   203.0   \n",
      "454      Raul Neto       Utah Jazz    25.0       PG  24.0    6-1   179.0   \n",
      "455   Tibor Pleiss       Utah Jazz    21.0        C  26.0    7-3   256.0   \n",
      "456    Jeff Withey       Utah Jazz    24.0        C  26.0    7-0   231.0   \n",
      "457            NaN             NaN     NaN      NaN   NaN    NaN     NaN   \n",
      "\n",
      "               College        Salary  \n",
      "0                Texas  7.730337e+06  \n",
      "1            Marquette  6.796117e+06  \n",
      "2    Boston University  2.107997e+06  \n",
      "3        Georgia State  1.148640e+06  \n",
      "4           no College  5.000000e+06  \n",
      "..                 ...           ...  \n",
      "453             Butler  2.433333e+06  \n",
      "454         no College  9.000000e+05  \n",
      "455         no College  2.900000e+06  \n",
      "456             Kansas  9.472760e+05  \n",
      "457         no College           NaN  \n",
      "\n",
      "[458 rows x 9 columns]\n"
     ]
    }
   ],
   "source": [
    "#ex29\n",
    "avg_salaries = df.groupby(['Team', 'Position'])['Salary'].transform('mean')\n",
    "\n",
    "df_salaries = df\n",
    "\n",
    "df_salaries['Salary'].fillna(avg_salaries, inplace = True)\n",
    "\n",
    "print(df_salaries)"
   ]
  },
  {
   "cell_type": "code",
   "execution_count": 31,
   "metadata": {},
   "outputs": [
    {
     "name": "stdout",
     "output_type": "stream",
     "text": [
      "104\n",
      "8\n"
     ]
    }
   ],
   "source": [
    "#ex30\n",
    "#esta é a resposta caso as alíneas não estejam relacionadas umas com as outras\n",
    "print(df_NaN_columns_count.sum())\n",
    "\n",
    "#resposta no caso de as alíneas terem um impacto (a anterior afeta a próxima)\n",
    "\n",
    "df_Nan_counts = df.isna().sum().sum()\n",
    "print(df_Nan_counts)\n"
   ]
  },
  {
   "cell_type": "code",
   "execution_count": 32,
   "metadata": {},
   "outputs": [],
   "source": [
    "#ex31\n",
    "#por num ficheiro csv\n",
    "df.to_csv('ficha1_resolvida.csv', index=False)\n",
    "\n",
    "#agora para um excel\n",
    "df.to_excel('ficha1_resolvida.xlsx', index=False, engine='openpyxl')\n",
    "\n"
   ]
  }
 ],
 "metadata": {
  "kernelspec": {
   "display_name": "base",
   "language": "python",
   "name": "python3"
  },
  "language_info": {
   "codemirror_mode": {
    "name": "ipython",
    "version": 3
   },
   "file_extension": ".py",
   "mimetype": "text/x-python",
   "name": "python",
   "nbconvert_exporter": "python",
   "pygments_lexer": "ipython3",
   "version": "3.11.4"
  },
  "orig_nbformat": 4
 },
 "nbformat": 4,
 "nbformat_minor": 2
}
