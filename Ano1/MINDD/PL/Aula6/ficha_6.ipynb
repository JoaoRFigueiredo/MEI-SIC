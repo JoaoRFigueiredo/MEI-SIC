{
 "cells": [
  {
   "cell_type": "code",
   "execution_count": 3,
   "metadata": {},
   "outputs": [
    {
     "name": "stdout",
     "output_type": "stream",
     "text": [
      "      type                                               text\n",
      "0      ham  Go until jurong point, crazy.. Available only ...\n",
      "1      ham                      Ok lar... Joking wif u oni...\n",
      "2     spam  Free entry in 2 a wkly comp to win FA Cup fina...\n",
      "3      ham  U dun say so early hor... U c already then say...\n",
      "4      ham  Nah I don't think he goes to usf, he lives aro...\n",
      "...    ...                                                ...\n",
      "5569  spam  This is the 2nd time we have tried 2 contact u...\n",
      "5570   ham               Will ü b going to esplanade fr home?\n",
      "5571   ham  Pity, * was in mood for that. So...any other s...\n",
      "5572   ham  The guy did some bitching but I acted like i'd...\n",
      "5573   ham                         Rofl. Its true to its name\n",
      "\n",
      "[5574 rows x 2 columns]\n"
     ]
    }
   ],
   "source": [
    "import pandas as pd\n",
    "import numpy as np\n",
    "import scipy as sc\n",
    "import matplotlib.pyplot as plt\n",
    "\n",
    "#ex1\n",
    "df = pd.read_csv('sms_spam.csv')\n",
    "print(df)"
   ]
  },
  {
   "cell_type": "code",
   "execution_count": 6,
   "metadata": {},
   "outputs": [
    {
     "name": "stdout",
     "output_type": "stream",
     "text": [
      "Ham Messages:\n",
      "  type                                               text\n",
      "0  ham  Go until jurong point, crazy.. Available only ...\n",
      "1  ham                      Ok lar... Joking wif u oni...\n",
      "3  ham  U dun say so early hor... U c already then say...\n",
      "\n",
      "Spam Messages:\n",
      "   type                                               text\n",
      "2  spam  Free entry in 2 a wkly comp to win FA Cup fina...\n",
      "5  spam  FreeMsg Hey there darling it's been 3 week's n...\n",
      "8  spam  WINNER!! As a valued network customer you have...\n"
     ]
    }
   ],
   "source": [
    "#ex2\n",
    "#Explore dataset\n",
    "#a) View some ham/sam messages\n",
    "print('Ham Messages:')\n",
    "print(df[df['type'] == 'ham'].head(3))\n",
    "\n",
    "print()\n",
    "\n",
    "print('Spam Messages:')\n",
    "print(df[df['type'] == 'spam'].head(3))\n"
   ]
  }
 ],
 "metadata": {
  "kernelspec": {
   "display_name": "base",
   "language": "python",
   "name": "python3"
  },
  "language_info": {
   "codemirror_mode": {
    "name": "ipython",
    "version": 3
   },
   "file_extension": ".py",
   "mimetype": "text/x-python",
   "name": "python",
   "nbconvert_exporter": "python",
   "pygments_lexer": "ipython3",
   "version": "3.11.4"
  }
 },
 "nbformat": 4,
 "nbformat_minor": 2
}
