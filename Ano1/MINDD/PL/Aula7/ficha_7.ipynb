{
 "cells": [
  {
   "cell_type": "code",
   "execution_count": 1,
   "metadata": {},
   "outputs": [
    {
     "name": "stdout",
     "output_type": "stream",
     "text": [
      "['gender', 'SeniorCitizen', 'Partner', 'Dependents', 'tenure', 'PhoneService', 'MultipleLines', 'InternetService', 'OnlineSecurity', 'OnlineBackup', 'DeviceProtection', 'TechSupport', 'StreamingTV', 'StreamingMovies', 'Contract', 'PaperlessBilling', 'PaymentMethod', 'MonthlyCharges', 'TotalCharges', 'Churn']\n"
     ]
    }
   ],
   "source": [
    "#same dataset as the week 3 one\n",
    "import numpy as np\n",
    "import scipy as sc\n",
    "import seaborn as sns\n",
    "import matplotlib.pyplot as plt\n",
    "import pandas as pd\n",
    "from sklearn.model_selection import train_test_split\n",
    "from sklearn.preprocessing import LabelEncoder\n",
    "\n",
    "\n",
    "\n",
    "df = pd.read_csv('Churn_DataSet.csv')\n",
    "\n",
    "print(df.columns.tolist())"
   ]
  },
  {
   "cell_type": "code",
   "execution_count": 2,
   "metadata": {},
   "outputs": [
    {
     "name": "stdout",
     "output_type": "stream",
     "text": [
      "140640\n",
      "140200\n",
      "gender              0\n",
      "SeniorCitizen       0\n",
      "Partner             0\n",
      "Dependents          0\n",
      "tenure              0\n",
      "PhoneService        0\n",
      "MultipleLines       0\n",
      "InternetService     0\n",
      "OnlineSecurity      0\n",
      "OnlineBackup        0\n",
      "DeviceProtection    0\n",
      "TechSupport         0\n",
      "StreamingTV         0\n",
      "StreamingMovies     0\n",
      "Contract            0\n",
      "PaperlessBilling    0\n",
      "PaymentMethod       0\n",
      "MonthlyCharges      0\n",
      "TotalCharges        0\n",
      "Churn               0\n",
      "dtype: int64\n"
     ]
    }
   ],
   "source": [
    "#ex2\n",
    "#Make the necessary preprocessing for developing the models\n",
    "\n",
    "#remove duplicate values\n",
    "print(df.size)\n",
    "df.drop_duplicates(inplace=True)\n",
    "print(df.size)\n",
    "\n",
    "\n",
    "#check for missing values\n",
    "missing_df_values = df.isnull().sum()\n",
    "print(missing_df_values)\n",
    "\n",
    "# Encode the target variable 'Churn' to 0 and 1\n",
    "label_encoder = LabelEncoder()\n",
    "df['Churn'] = label_encoder.fit_transform(df['Churn'])\n",
    "\n",
    "# Handle missing values in the 'TotalCharges' column (if any)\n",
    "df['TotalCharges'] = pd.to_numeric(df['TotalCharges'], errors='coerce')  # Handle non-numeric values gracefully\n",
    "\n",
    "# Identify categorical columns for one-hot encoding\n",
    "nominal_categorical_columns = ['InternetService', 'Contract', 'PaymentMethod']\n",
    "binary_categorical_columns = ['gender', 'Partner', 'Dependents', 'PhoneService', 'MultipleLines',\n",
    "                             'OnlineSecurity', 'OnlineBackup', 'DeviceProtection', 'TechSupport',\n",
    "                             'StreamingTV', 'StreamingMovies', 'PaperlessBilling', 'SeniorCitizen']\n",
    "\n",
    "# One-hot encoding for nominal categorical columns\n",
    "df_encoded = pd.get_dummies(df, columns=nominal_categorical_columns, drop_first=True)\n",
    "\n",
    "# Label encoding for binary categorical columns\n",
    "label_encoder = LabelEncoder()\n",
    "for col in binary_categorical_columns:\n",
    "    df_encoded[col] = label_encoder.fit_transform(df[col])\n"
   ]
  },
  {
   "cell_type": "code",
   "execution_count": 3,
   "metadata": {},
   "outputs": [
    {
     "name": "stdout",
     "output_type": "stream",
     "text": [
      "      gender  SeniorCitizen  Partner  Dependents  tenure  PhoneService  \\\n",
      "0          0              0        1           0       1             0   \n",
      "1          1              0        0           0      34             1   \n",
      "2          1              0        0           0       2             1   \n",
      "3          1              0        0           0      45             0   \n",
      "4          0              0        0           0       2             1   \n",
      "...      ...            ...      ...         ...     ...           ...   \n",
      "7027       1              0        1           1      24             1   \n",
      "7028       0              0        1           1      72             1   \n",
      "7029       0              0        1           1      11             0   \n",
      "7030       1              1        1           0       4             1   \n",
      "7031       1              0        0           0      66             1   \n",
      "\n",
      "      MultipleLines  OnlineSecurity  OnlineBackup  DeviceProtection  ...  \\\n",
      "0                 0               0             1                 0  ...   \n",
      "1                 0               1             0                 1  ...   \n",
      "2                 0               1             1                 0  ...   \n",
      "3                 0               1             0                 1  ...   \n",
      "4                 0               0             0                 0  ...   \n",
      "...             ...             ...           ...               ...  ...   \n",
      "7027              1               1             0                 1  ...   \n",
      "7028              1               0             1                 1  ...   \n",
      "7029              0               1             0                 0  ...   \n",
      "7030              1               0             0                 0  ...   \n",
      "7031              0               1             0                 1  ...   \n",
      "\n",
      "      MonthlyCharges  TotalCharges  Churn  InternetService_Fiber optic  \\\n",
      "0              29.85         29.85      0                            0   \n",
      "1              56.95       1889.50      0                            0   \n",
      "2              53.85        108.15      1                            0   \n",
      "3              42.30       1840.75      0                            0   \n",
      "4              70.70        151.65      1                            1   \n",
      "...              ...           ...    ...                          ...   \n",
      "7027           84.80       1990.50      0                            0   \n",
      "7028          103.20       7362.90      0                            1   \n",
      "7029           29.60        346.45      0                            0   \n",
      "7030           74.40        306.60      1                            1   \n",
      "7031          105.65       6844.50      0                            1   \n",
      "\n",
      "      InternetService_No  Contract_One year  Contract_Two year  \\\n",
      "0                      0                  0                  0   \n",
      "1                      0                  1                  0   \n",
      "2                      0                  0                  0   \n",
      "3                      0                  1                  0   \n",
      "4                      0                  0                  0   \n",
      "...                  ...                ...                ...   \n",
      "7027                   0                  1                  0   \n",
      "7028                   0                  1                  0   \n",
      "7029                   0                  0                  0   \n",
      "7030                   0                  0                  0   \n",
      "7031                   0                  0                  1   \n",
      "\n",
      "      PaymentMethod_Credit card (automatic)  PaymentMethod_Electronic check  \\\n",
      "0                                         0                               1   \n",
      "1                                         0                               0   \n",
      "2                                         0                               0   \n",
      "3                                         0                               0   \n",
      "4                                         0                               1   \n",
      "...                                     ...                             ...   \n",
      "7027                                      0                               0   \n",
      "7028                                      1                               0   \n",
      "7029                                      0                               1   \n",
      "7030                                      0                               0   \n",
      "7031                                      0                               0   \n",
      "\n",
      "      PaymentMethod_Mailed check  \n",
      "0                              0  \n",
      "1                              1  \n",
      "2                              1  \n",
      "3                              0  \n",
      "4                              0  \n",
      "...                          ...  \n",
      "7027                           1  \n",
      "7028                           0  \n",
      "7029                           0  \n",
      "7030                           1  \n",
      "7031                           0  \n",
      "\n",
      "[7010 rows x 24 columns]\n"
     ]
    }
   ],
   "source": [
    "#ex3\n",
    "# Split the data into features (X) and the target variable (y)\n",
    "print(df_encoded)\n",
    "X = df_encoded.drop('Churn', axis=1)\n",
    "y = df_encoded['Churn']\n",
    "\n",
    "X_train, X_test, y_train, y_test = train_test_split(X, y, test_size=0.2, stratify=y, random_state=42)\n"
   ]
  },
  {
   "cell_type": "code",
   "execution_count": 4,
   "metadata": {},
   "outputs": [
    {
     "name": "stdout",
     "output_type": "stream",
     "text": [
      "Logistic Regression Mean Accuracy: 0.8018904379933792\n"
     ]
    }
   ],
   "source": [
    "#ex4\n",
    "#a) Logistic Regression\n",
    "from sklearn.linear_model import LogisticRegression\n",
    "from sklearn.model_selection import cross_val_score\n",
    "\n",
    "logistic_model = LogisticRegression(max_iter=1000)\n",
    "logistic_scores = cross_val_score(logistic_model, X_train, y_train, cv=10, scoring='accuracy')\n",
    "mean_accuracy = logistic_scores.mean()\n",
    "print(\"Logistic Regression Mean Accuracy:\", mean_accuracy)\n"
   ]
  },
  {
   "cell_type": "code",
   "execution_count": 5,
   "metadata": {},
   "outputs": [
    {
     "name": "stdout",
     "output_type": "stream",
     "text": [
      "Decision Tree Mean Accuracy: 0.726642475171887\n"
     ]
    }
   ],
   "source": [
    "#ex4\n",
    "#b) Decision Tree\n",
    "from sklearn.tree import DecisionTreeClassifier\n",
    "\n",
    "decision_tree_model = DecisionTreeClassifier()\n",
    "decision_tree_scores = cross_val_score(decision_tree_model, X_train, y_train, cv=10, scoring='accuracy')\n",
    "mean_accuracy = decision_tree_scores.mean()\n",
    "print(\"Decision Tree Mean Accuracy:\", mean_accuracy)\n"
   ]
  },
  {
   "cell_type": "code",
   "execution_count": 6,
   "metadata": {},
   "outputs": [
    {
     "name": "stdout",
     "output_type": "stream",
     "text": [
      "Naive Bayes Mean Accuracy: 0.7487538197097021\n"
     ]
    }
   ],
   "source": [
    "#ex4\n",
    "#c)Naives Bayes\n",
    "from sklearn.naive_bayes import GaussianNB\n",
    "\n",
    "naive_bayes_model = GaussianNB()\n",
    "naive_bayes_scores = cross_val_score(naive_bayes_model, X_train, y_train, cv=10, scoring='accuracy')\n",
    "mean_accuracy = naive_bayes_scores.mean()\n",
    "print(\"Naive Bayes Mean Accuracy:\", mean_accuracy)\n"
   ]
  },
  {
   "cell_type": "code",
   "execution_count": 7,
   "metadata": {},
   "outputs": [
    {
     "name": "stdout",
     "output_type": "stream",
     "text": [
      "KNN Mean Accuracy: 0.7655092946269417\n"
     ]
    }
   ],
   "source": [
    "#ex4\n",
    "#d) KNN\n",
    "from sklearn.neighbors import KNeighborsClassifier\n",
    "\n",
    "knn_model = KNeighborsClassifier()\n",
    "knn_scores = cross_val_score(knn_model, X_train, y_train, cv=10, scoring='accuracy')\n",
    "mean_accuracy = knn_scores.mean()\n",
    "print(\"KNN Mean Accuracy:\", mean_accuracy)\n"
   ]
  },
  {
   "cell_type": "code",
   "execution_count": 8,
   "metadata": {},
   "outputs": [
    {
     "name": "stdout",
     "output_type": "stream",
     "text": [
      "SVM Mean Accuracy: 0.735021645021645\n"
     ]
    }
   ],
   "source": [
    "#ex5\n",
    "#e)SVM\n",
    "from sklearn.svm import SVC\n",
    "\n",
    "svm_model = SVC()\n",
    "svm_scores = cross_val_score(svm_model, X_train, y_train, cv=10, scoring='accuracy')\n",
    "mean_accuracy = svm_scores.mean()\n",
    "print(\"SVM Mean Accuracy:\", mean_accuracy)\n"
   ]
  },
  {
   "cell_type": "code",
   "execution_count": 9,
   "metadata": {},
   "outputs": [
    {
     "name": "stdout",
     "output_type": "stream",
     "text": [
      "Logistic Regression Test Accuracy: 0.81\n",
      "Decision Tree Test Accuracy: 0.72\n",
      "Naive Bayes Test Accuracy: 0.75\n",
      "KNN Test Accuracy: 0.76\n",
      "SVM Test Accuracy: 0.74\n"
     ]
    }
   ],
   "source": [
    "#5. Evaluate the performance of various algorithms on the test set.\n",
    "from sklearn.metrics import accuracy_score\n",
    "\n",
    "# Assuming you've trained the models earlier (logistic_model, decision_tree_model, naive_bayes_model, knn_model, svm_model)\n",
    "# Evaluate each model on the test set\n",
    "models = [logistic_model, decision_tree_model, naive_bayes_model, knn_model, svm_model]\n",
    "model_names = [\"Logistic Regression\", \"Decision Tree\", \"Naive Bayes\", \"KNN\", \"SVM\"]\n",
    "\n",
    "for model, model_name in zip(models, model_names):\n",
    "    model.fit(X_train, y_train)\n",
    "    y_pred = model.predict(X_test)\n",
    "    accuracy = accuracy_score(y_test, y_pred)\n",
    "    print(f\"{model_name} Test Accuracy: {accuracy:.2f}\") "
   ]
  },
  {
   "cell_type": "code",
   "execution_count": 10,
   "metadata": {},
   "outputs": [
    {
     "name": "stdout",
     "output_type": "stream",
     "text": [
      "Best MLP Classifier for Churn Test Accuracy: 0.78\n"
     ]
    }
   ],
   "source": [
    "#6. Create a MLP network and optimize its configuration to predict the Churn: Yes/No attribute.\n",
    "from sklearn.neural_network import MLPClassifier\n",
    "from sklearn.model_selection import GridSearchCV\n",
    "mlp_model_churn = MLPClassifier()\n",
    "parameters = {\n",
    "    'hidden_layer_sizes': [(50, 50), (100, 100), (50, 100, 50)],\n",
    "    'activation': ['logistic', 'tanh', 'relu'],\n",
    "    'max_iter': [500, 1000],\n",
    "}\n",
    "\n",
    "grid_search = GridSearchCV(mlp_model_churn, parameters, cv=5, scoring='accuracy')\n",
    "grid_search.fit(X_train, y_train)\n",
    "\n",
    "best_mlp_model_churn = grid_search.best_estimator_\n",
    "best_mlp_model_churn.fit(X_train, y_train)\n",
    "accuracy = best_mlp_model_churn.score(X_test, y_test)\n",
    "print(f\"Best MLP Classifier for Churn Test Accuracy: {accuracy:.2f}\")\n"
   ]
  },
  {
   "cell_type": "code",
   "execution_count": 11,
   "metadata": {},
   "outputs": [
    {
     "name": "stdout",
     "output_type": "stream",
     "text": [
      "Best MLP Regressor for MonthlyCharges Mean Squared Error: 0.15\n"
     ]
    }
   ],
   "source": [
    "#ex7\n",
    "from sklearn.neural_network import MLPRegressor\n",
    "from sklearn.model_selection import GridSearchCV\n",
    "from sklearn.metrics import mean_squared_error\n",
    "\n",
    "mlp_model_monthly_charges = MLPRegressor()\n",
    "parameters = {\n",
    "    'hidden_layer_sizes': [(50, 50), (100, 100), (50, 100, 50)],\n",
    "    'activation': ['logistic', 'tanh', 'relu'],\n",
    "    'max_iter': [500, 1000],\n",
    "}\n",
    "\n",
    "grid_search = GridSearchCV(mlp_model_monthly_charges, parameters, cv=5, scoring='neg_mean_squared_error')\n",
    "grid_search.fit(X_train, y_train)\n",
    "\n",
    "best_mlp_model_monthly_charges = grid_search.best_estimator_\n",
    "best_mlp_model_monthly_charges.fit(X_train, y_train)\n",
    "y_pred = best_mlp_model_monthly_charges.predict(X_test)\n",
    "mse = mean_squared_error(y_test, y_pred)\n",
    "print(f\"Best MLP Regressor for MonthlyCharges Mean Squared Error: {mse:.2f}\")\n"
   ]
  }
 ],
 "metadata": {
  "kernelspec": {
   "display_name": "base",
   "language": "python",
   "name": "python3"
  },
  "language_info": {
   "codemirror_mode": {
    "name": "ipython",
    "version": 3
   },
   "file_extension": ".py",
   "mimetype": "text/x-python",
   "name": "python",
   "nbconvert_exporter": "python",
   "pygments_lexer": "ipython3",
   "version": "3.11.4"
  }
 },
 "nbformat": 4,
 "nbformat_minor": 2
}
