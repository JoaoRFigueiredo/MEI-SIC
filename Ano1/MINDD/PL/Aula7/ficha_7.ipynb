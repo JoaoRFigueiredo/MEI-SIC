{
 "cells": [
  {
   "cell_type": "code",
   "execution_count": 25,
   "metadata": {},
   "outputs": [
    {
     "name": "stdout",
     "output_type": "stream",
     "text": [
      "['gender', 'SeniorCitizen', 'Partner', 'Dependents', 'tenure', 'PhoneService', 'MultipleLines', 'InternetService', 'OnlineSecurity', 'OnlineBackup', 'DeviceProtection', 'TechSupport', 'StreamingTV', 'StreamingMovies', 'Contract', 'PaperlessBilling', 'PaymentMethod', 'MonthlyCharges', 'TotalCharges', 'Churn']\n"
     ]
    }
   ],
   "source": [
    "#same dataset as the week 3 one\n",
    "import numpy as np\n",
    "import scipy as sc\n",
    "import seaborn as sns\n",
    "import matplotlib.pyplot as plt\n",
    "import pandas as pd\n",
    "from sklearn.model_selection import train_test_split\n",
    "from sklearn.preprocessing import LabelEncoder\n",
    "from sklearn.preprocessing import StandardScaler\n",
    "from keras.models import Sequential\n",
    "from keras.layers import Dense\n",
    "from sklearn.metrics import mean_squared_error\n",
    "from keras.optimizers import Adam\n",
    "\n",
    "df = pd.read_csv('Churn_DataSet.csv')\n",
    "\n",
    "print(df.columns.tolist())"
   ]
  },
  {
   "cell_type": "code",
   "execution_count": 26,
   "metadata": {},
   "outputs": [
    {
     "name": "stdout",
     "output_type": "stream",
     "text": [
      "140640\n",
      "140200\n",
      "gender              0\n",
      "SeniorCitizen       0\n",
      "Partner             0\n",
      "Dependents          0\n",
      "tenure              0\n",
      "PhoneService        0\n",
      "MultipleLines       0\n",
      "InternetService     0\n",
      "OnlineSecurity      0\n",
      "OnlineBackup        0\n",
      "DeviceProtection    0\n",
      "TechSupport         0\n",
      "StreamingTV         0\n",
      "StreamingMovies     0\n",
      "Contract            0\n",
      "PaperlessBilling    0\n",
      "PaymentMethod       0\n",
      "MonthlyCharges      0\n",
      "TotalCharges        0\n",
      "Churn               0\n",
      "dtype: int64\n"
     ]
    }
   ],
   "source": [
    "\n",
    "#I just copied this from guide 3\n",
    "#there are better ways to do this, but it works :)\n",
    "#ex2\n",
    "#Make the necessary preprocessing for developing the models\n",
    "\n",
    "#remove duplicate values\n",
    "print(df.size)\n",
    "df.drop_duplicates(inplace=True)\n",
    "print(df.size)\n",
    "\n",
    "\n",
    "#check for missing values\n",
    "missing_df_values = df.isnull().sum()\n",
    "print(missing_df_values)\n",
    "\n",
    "# Encode the target variable 'Churn' to 0 and 1\n",
    "label_encoder = LabelEncoder()\n",
    "df['Churn'] = label_encoder.fit_transform(df['Churn'])\n",
    "\n",
    "# Handle missing values in the 'TotalCharges' column (if any)\n",
    "df['TotalCharges'] = pd.to_numeric(df['TotalCharges'], errors='coerce')  # Handle non-numeric values gracefully\n",
    "\n",
    "# Identify categorical columns for one-hot encoding\n",
    "nominal_categorical_columns = ['InternetService', 'Contract', 'PaymentMethod']\n",
    "binary_categorical_columns = ['gender', 'Partner', 'Dependents', 'PhoneService', 'MultipleLines',\n",
    "                             'OnlineSecurity', 'OnlineBackup', 'DeviceProtection', 'TechSupport',\n",
    "                             'StreamingTV', 'StreamingMovies', 'PaperlessBilling', 'SeniorCitizen']\n",
    "\n",
    "# One-hot encoding for nominal categorical columns\n",
    "df_encoded = pd.get_dummies(df, columns=nominal_categorical_columns, drop_first=True)\n",
    "\n",
    "# Label encoding for binary categorical columns\n",
    "label_encoder = LabelEncoder()\n",
    "for col in binary_categorical_columns:\n",
    "    df_encoded[col] = label_encoder.fit_transform(df[col])\n"
   ]
  },
  {
   "cell_type": "code",
   "execution_count": 27,
   "metadata": {},
   "outputs": [
    {
     "name": "stdout",
     "output_type": "stream",
     "text": [
      "      gender  SeniorCitizen  Partner  Dependents  tenure  PhoneService  \\\n",
      "0          0              0        1           0       1             0   \n",
      "1          1              0        0           0      34             1   \n",
      "2          1              0        0           0       2             1   \n",
      "3          1              0        0           0      45             0   \n",
      "4          0              0        0           0       2             1   \n",
      "...      ...            ...      ...         ...     ...           ...   \n",
      "7027       1              0        1           1      24             1   \n",
      "7028       0              0        1           1      72             1   \n",
      "7029       0              0        1           1      11             0   \n",
      "7030       1              1        1           0       4             1   \n",
      "7031       1              0        0           0      66             1   \n",
      "\n",
      "      MultipleLines  OnlineSecurity  OnlineBackup  DeviceProtection  ...  \\\n",
      "0                 0               0             1                 0  ...   \n",
      "1                 0               1             0                 1  ...   \n",
      "2                 0               1             1                 0  ...   \n",
      "3                 0               1             0                 1  ...   \n",
      "4                 0               0             0                 0  ...   \n",
      "...             ...             ...           ...               ...  ...   \n",
      "7027              1               1             0                 1  ...   \n",
      "7028              1               0             1                 1  ...   \n",
      "7029              0               1             0                 0  ...   \n",
      "7030              1               0             0                 0  ...   \n",
      "7031              0               1             0                 1  ...   \n",
      "\n",
      "      MonthlyCharges  TotalCharges  Churn  InternetService_Fiber optic  \\\n",
      "0              29.85         29.85      0                            0   \n",
      "1              56.95       1889.50      0                            0   \n",
      "2              53.85        108.15      1                            0   \n",
      "3              42.30       1840.75      0                            0   \n",
      "4              70.70        151.65      1                            1   \n",
      "...              ...           ...    ...                          ...   \n",
      "7027           84.80       1990.50      0                            0   \n",
      "7028          103.20       7362.90      0                            1   \n",
      "7029           29.60        346.45      0                            0   \n",
      "7030           74.40        306.60      1                            1   \n",
      "7031          105.65       6844.50      0                            1   \n",
      "\n",
      "      InternetService_No  Contract_One year  Contract_Two year  \\\n",
      "0                      0                  0                  0   \n",
      "1                      0                  1                  0   \n",
      "2                      0                  0                  0   \n",
      "3                      0                  1                  0   \n",
      "4                      0                  0                  0   \n",
      "...                  ...                ...                ...   \n",
      "7027                   0                  1                  0   \n",
      "7028                   0                  1                  0   \n",
      "7029                   0                  0                  0   \n",
      "7030                   0                  0                  0   \n",
      "7031                   0                  0                  1   \n",
      "\n",
      "      PaymentMethod_Credit card (automatic)  PaymentMethod_Electronic check  \\\n",
      "0                                         0                               1   \n",
      "1                                         0                               0   \n",
      "2                                         0                               0   \n",
      "3                                         0                               0   \n",
      "4                                         0                               1   \n",
      "...                                     ...                             ...   \n",
      "7027                                      0                               0   \n",
      "7028                                      1                               0   \n",
      "7029                                      0                               1   \n",
      "7030                                      0                               0   \n",
      "7031                                      0                               0   \n",
      "\n",
      "      PaymentMethod_Mailed check  \n",
      "0                              0  \n",
      "1                              1  \n",
      "2                              1  \n",
      "3                              0  \n",
      "4                              0  \n",
      "...                          ...  \n",
      "7027                           1  \n",
      "7028                           0  \n",
      "7029                           0  \n",
      "7030                           1  \n",
      "7031                           0  \n",
      "\n",
      "[7010 rows x 24 columns]\n"
     ]
    }
   ],
   "source": [
    "#ex3\n",
    "# Split the data into features (X) and the target variable (y)\n",
    "print(df_encoded)\n",
    "X = df_encoded.drop('Churn', axis=1)\n",
    "y = df_encoded['Churn']\n",
    "\n",
    "X_train, X_test, y_train, y_test = train_test_split(X, y, test_size=0.2, stratify=y, random_state=42)\n",
    "\n",
    "# Standardize the features\n",
    "scaler = StandardScaler()\n",
    "X_train = scaler.fit_transform(X_train)\n",
    "X_test = scaler.transform(X_test)\n"
   ]
  },
  {
   "cell_type": "code",
   "execution_count": 28,
   "metadata": {},
   "outputs": [
    {
     "name": "stdout",
     "output_type": "stream",
     "text": [
      "Logistic Regression Mean Accuracy: 0.8024248790425259\n"
     ]
    }
   ],
   "source": [
    "#ex4\n",
    "#a) Logistic Regression\n",
    "from sklearn.linear_model import LogisticRegression\n",
    "from sklearn.model_selection import cross_val_score\n",
    "\n",
    "logistic_model = LogisticRegression(max_iter=1000)\n",
    "logistic_scores = cross_val_score(logistic_model, X_train, y_train, cv=10, scoring='accuracy')\n",
    "mean_accuracy = logistic_scores.mean()\n",
    "print(\"Logistic Regression Mean Accuracy:\", mean_accuracy)\n"
   ]
  },
  {
   "cell_type": "code",
   "execution_count": 29,
   "metadata": {},
   "outputs": [
    {
     "name": "stdout",
     "output_type": "stream",
     "text": [
      "Decision Tree Mean Accuracy: 0.7266402470078941\n"
     ]
    }
   ],
   "source": [
    "#ex4\n",
    "#b) Decision Tree\n",
    "from sklearn.tree import DecisionTreeClassifier\n",
    "\n",
    "decision_tree_model = DecisionTreeClassifier()\n",
    "decision_tree_scores = cross_val_score(decision_tree_model, X_train, y_train, cv=10, scoring='accuracy')\n",
    "mean_accuracy = decision_tree_scores.mean()\n",
    "print(\"Decision Tree Mean Accuracy:\", mean_accuracy)\n"
   ]
  },
  {
   "cell_type": "code",
   "execution_count": 30,
   "metadata": {},
   "outputs": [
    {
     "name": "stdout",
     "output_type": "stream",
     "text": [
      "Naive Bayes Mean Accuracy: 0.7491100076394195\n"
     ]
    }
   ],
   "source": [
    "#ex4\n",
    "#c)Naives Bayes\n",
    "from sklearn.naive_bayes import GaussianNB\n",
    "\n",
    "naive_bayes_model = GaussianNB()\n",
    "naive_bayes_scores = cross_val_score(naive_bayes_model, X_train, y_train, cv=10, scoring='accuracy')\n",
    "mean_accuracy = naive_bayes_scores.mean()\n",
    "print(\"Naive Bayes Mean Accuracy:\", mean_accuracy)\n"
   ]
  },
  {
   "cell_type": "code",
   "execution_count": 31,
   "metadata": {},
   "outputs": [
    {
     "name": "stdout",
     "output_type": "stream",
     "text": [
      "KNN Mean Accuracy: 0.7589164756811816\n"
     ]
    }
   ],
   "source": [
    "#ex4\n",
    "#d) KNN\n",
    "from sklearn.neighbors import KNeighborsClassifier\n",
    "\n",
    "knn_model = KNeighborsClassifier()\n",
    "knn_scores = cross_val_score(knn_model, X_train, y_train, cv=10, scoring='accuracy')\n",
    "mean_accuracy = knn_scores.mean()\n",
    "print(\"KNN Mean Accuracy:\", mean_accuracy)\n"
   ]
  },
  {
   "cell_type": "code",
   "execution_count": 32,
   "metadata": {},
   "outputs": [
    {
     "name": "stdout",
     "output_type": "stream",
     "text": [
      "SVM Mean Accuracy: 0.7993920295390883\n"
     ]
    }
   ],
   "source": [
    "#ex5\n",
    "#e)SVM\n",
    "from sklearn.svm import SVC\n",
    "\n",
    "svm_model = SVC()\n",
    "svm_scores = cross_val_score(svm_model, X_train, y_train, cv=10, scoring='accuracy')\n",
    "mean_accuracy = svm_scores.mean()\n",
    "print(\"SVM Mean Accuracy:\", mean_accuracy)\n"
   ]
  },
  {
   "cell_type": "code",
   "execution_count": 33,
   "metadata": {},
   "outputs": [
    {
     "name": "stdout",
     "output_type": "stream",
     "text": [
      "Logistic Regression Test Accuracy: 0.81\n",
      "Decision Tree Test Accuracy: 0.72\n",
      "Naive Bayes Test Accuracy: 0.75\n",
      "KNN Test Accuracy: 0.75\n",
      "SVM Test Accuracy: 0.80\n"
     ]
    }
   ],
   "source": [
    "#5. Evaluate the performance of various algorithms on the test set.\n",
    "from sklearn.metrics import accuracy_score\n",
    "\n",
    "# Assuming you've trained the models earlier (logistic_model, decision_tree_model, naive_bayes_model, knn_model, svm_model)\n",
    "# Evaluate each model on the test set\n",
    "models = [logistic_model, decision_tree_model, naive_bayes_model, knn_model, svm_model]\n",
    "model_names = [\"Logistic Regression\", \"Decision Tree\", \"Naive Bayes\", \"KNN\", \"SVM\"]\n",
    "\n",
    "for model, model_name in zip(models, model_names):\n",
    "    model.fit(X_train, y_train)\n",
    "    y_pred = model.predict(X_test)\n",
    "    accuracy = accuracy_score(y_test, y_pred)\n",
    "    print(f\"{model_name} Test Accuracy: {accuracy:.2f}\") "
   ]
  },
  {
   "cell_type": "code",
   "execution_count": 34,
   "metadata": {},
   "outputs": [
    {
     "name": "stdout",
     "output_type": "stream",
     "text": [
      "Epoch 1/10\n",
      "176/176 [==============================] - 1s 3ms/step - loss: 0.4634 - accuracy: 0.7725 - val_loss: 0.4282 - val_accuracy: 0.8010\n",
      "Epoch 2/10\n",
      "176/176 [==============================] - 0s 3ms/step - loss: 0.4205 - accuracy: 0.7981 - val_loss: 0.4274 - val_accuracy: 0.8039\n",
      "Epoch 3/10\n",
      "176/176 [==============================] - 0s 3ms/step - loss: 0.4123 - accuracy: 0.8017 - val_loss: 0.4243 - val_accuracy: 0.8039\n",
      "Epoch 4/10\n",
      "176/176 [==============================] - 0s 2ms/step - loss: 0.4075 - accuracy: 0.8074 - val_loss: 0.4215 - val_accuracy: 0.7974\n",
      "Epoch 5/10\n",
      "176/176 [==============================] - 0s 2ms/step - loss: 0.4027 - accuracy: 0.8119 - val_loss: 0.4260 - val_accuracy: 0.8024\n",
      "Epoch 6/10\n",
      "176/176 [==============================] - 0s 2ms/step - loss: 0.3988 - accuracy: 0.8151 - val_loss: 0.4280 - val_accuracy: 0.8010\n",
      "Epoch 7/10\n",
      "176/176 [==============================] - 0s 2ms/step - loss: 0.3955 - accuracy: 0.8140 - val_loss: 0.4253 - val_accuracy: 0.7953\n",
      "Epoch 8/10\n",
      "176/176 [==============================] - 0s 2ms/step - loss: 0.3933 - accuracy: 0.8153 - val_loss: 0.4280 - val_accuracy: 0.7960\n",
      "Epoch 9/10\n",
      "176/176 [==============================] - 0s 2ms/step - loss: 0.3909 - accuracy: 0.8163 - val_loss: 0.4338 - val_accuracy: 0.7932\n",
      "Epoch 10/10\n",
      "176/176 [==============================] - 0s 2ms/step - loss: 0.3872 - accuracy: 0.8195 - val_loss: 0.4354 - val_accuracy: 0.7932\n",
      "44/44 [==============================] - 0s 1ms/step\n",
      "Accuracy: 0.7931526390870185\n"
     ]
    }
   ],
   "source": [
    "#6. Create a MLP network and optimize its configuration to predict the Churn: Yes/No attribute.\n",
    "\n",
    "\n",
    "# Create the MLP model\n",
    "model = Sequential()\n",
    "model.add(Dense(64, input_dim=X_train.shape[1], activation='relu'))\n",
    "model.add(Dense(32, activation='relu'))\n",
    "model.add(Dense(1, activation='sigmoid'))\n",
    "\n",
    "# Compile the model\n",
    "model.compile(loss='binary_crossentropy', optimizer='adam', metrics=['accuracy'])\n",
    "\n",
    "# Train the model\n",
    "model.fit(X_train, y_train, epochs=10, batch_size=32, validation_data=(X_test, y_test))\n",
    "\n",
    "# Evaluate the model on the test set\n",
    "y_pred = model.predict(X_test)\n",
    "y_pred_binary = np.round(y_pred)\n",
    "accuracy = accuracy_score(y_test, y_pred_binary)\n",
    "print(f\"Accuracy: {accuracy}\")"
   ]
  },
  {
   "cell_type": "code",
   "execution_count": 35,
   "metadata": {},
   "outputs": [],
   "source": [
    "#ex7 training split\n",
    "# we have to do this again, because ex7 wants to predict another atribute (monthly charges)\n",
    "# Preprocess the data\n",
    "X = df_encoded.drop('MonthlyCharges', axis=1)  # Features\n",
    "y = df_encoded['MonthlyCharges']  # Target\n",
    "\n",
    "# Split the data into training and testing sets\n",
    "X_train, X_test, y_train, y_test = train_test_split(X, y, test_size=0.2, random_state=42)\n",
    "\n",
    "# Standardize the features\n",
    "scaler = StandardScaler()\n",
    "X_train = scaler.fit_transform(X_train)\n",
    "X_test = scaler.transform(X_test)"
   ]
  },
  {
   "cell_type": "markdown",
   "metadata": {},
   "source": [
    "### In ex7 we're going to make predictions on non-discrete data (monthly charges), so the best metrics to evaluate it's performance are:\n",
    "- Mean Squared Error (MSE)\n",
    "- Mean Absolute Error (MAE)\n",
    "- R-squared (R2)"
   ]
  },
  {
   "cell_type": "code",
   "execution_count": 36,
   "metadata": {},
   "outputs": [
    {
     "name": "stdout",
     "output_type": "stream",
     "text": [
      "Epoch 1/10\n",
      "176/176 [==============================] - 1s 3ms/step - loss: 3125.8691 - val_loss: 389.3031\n",
      "Epoch 2/10\n",
      "176/176 [==============================] - 0s 2ms/step - loss: 145.1186 - val_loss: 49.8963\n",
      "Epoch 3/10\n",
      "176/176 [==============================] - 0s 3ms/step - loss: 32.5570 - val_loss: 19.2572\n",
      "Epoch 4/10\n",
      "176/176 [==============================] - 0s 2ms/step - loss: 15.9221 - val_loss: 12.0756\n",
      "Epoch 5/10\n",
      "176/176 [==============================] - 0s 2ms/step - loss: 10.5523 - val_loss: 9.0833\n",
      "Epoch 6/10\n",
      "176/176 [==============================] - 1s 3ms/step - loss: 7.9858 - val_loss: 7.3169\n",
      "Epoch 7/10\n",
      "176/176 [==============================] - 1s 3ms/step - loss: 6.4298 - val_loss: 6.2048\n",
      "Epoch 8/10\n",
      "176/176 [==============================] - 0s 3ms/step - loss: 5.4106 - val_loss: 5.4787\n",
      "Epoch 9/10\n",
      "176/176 [==============================] - 0s 3ms/step - loss: 4.6780 - val_loss: 4.8849\n",
      "Epoch 10/10\n",
      "176/176 [==============================] - 0s 3ms/step - loss: 4.1329 - val_loss: 4.5120\n",
      "44/44 [==============================] - 0s 2ms/step\n",
      "Mean Squared Error: 4.5119786392992225\n"
     ]
    }
   ],
   "source": [
    "#ex7\n",
    "model = Sequential()\n",
    "model.add(Dense(64, input_dim=X_train.shape[1], activation='relu'))\n",
    "model.add(Dense(32, activation='relu'))\n",
    "model.add(Dense(1, activation='linear'))  \n",
    "\n",
    "# Compile the model with mean squared error loss and Adam optimizer\n",
    "model.compile(loss='mean_squared_error', optimizer=Adam(learning_rate=0.001))\n",
    "\n",
    "# Train the model\n",
    "model.fit(X_train, y_train, epochs=10, batch_size=32, validation_data=(X_test, y_test))\n",
    "\n",
    "# Evaluate the model on the test set\n",
    "y_pred = model.predict(X_test)\n",
    "mse = mean_squared_error(y_test, y_pred)\n",
    "print(f\"Mean Squared Error: {mse}\")\n"
   ]
  }
 ],
 "metadata": {
  "kernelspec": {
   "display_name": "base",
   "language": "python",
   "name": "python3"
  },
  "language_info": {
   "codemirror_mode": {
    "name": "ipython",
    "version": 3
   },
   "file_extension": ".py",
   "mimetype": "text/x-python",
   "name": "python",
   "nbconvert_exporter": "python",
   "pygments_lexer": "ipython3",
   "version": "3.11.4"
  }
 },
 "nbformat": 4,
 "nbformat_minor": 2
}
