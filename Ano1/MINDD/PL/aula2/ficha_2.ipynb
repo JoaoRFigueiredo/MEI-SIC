{
 "cells": [
  {
   "cell_type": "code",
   "execution_count": 17,
   "metadata": {},
   "outputs": [],
   "source": [
    "import pandas as pd\n",
    "import scipy as sc\n",
    "import numpy as np\n",
    "import seaborn as sns\n",
    "import matplotlib.pyplot as plt \n",
    "df = pd.read_csv(\"week_purchases18-25.txt\", delimiter='\\t')"
   ]
  },
  {
   "cell_type": "code",
   "execution_count": 2,
   "metadata": {},
   "outputs": [
    {
     "name": "stdout",
     "output_type": "stream",
     "text": [
      "         Username TitleCli         Name                         Address  \\\n",
      "0    user_1000884    MRS    DORIS126855  89594388-Boris Road-Doris Town   \n",
      "1    user_1009862    MRS     DORIS42531  75844730-Boris Road-Doris Town   \n",
      "2    user_1025298   MISS    DORIS136770  39704306-Boris Road-Doris Town   \n",
      "3    user_1039001      MR   BORIS111529  46627181-Boris Road-Doris Town   \n",
      "4    user_1040891    MRS    DORIS142154  82645107-Boris Road-Doris Town   \n",
      "..            ...      ...          ...                             ...   \n",
      "734   user_972607     MRS     DORIS6273  36217755-Boris Road-Doris Town   \n",
      "735   user_975665     MR     BORIS95778  43605144-Boris Road-Doris Town   \n",
      "736   user_979177    MRS     DORIS74765  94620905-Boris Road-Doris Town   \n",
      "737    user_99281      MR    BORIS13620  57719599-Boris Road-Doris Town   \n",
      "738   user_993341      MR   BORIS137380  29294945-Boris Road-Doris Town   \n",
      "\n",
      "    Country Gender   Age Favourites           Order_ID  Product_ID      Style  \\\n",
      "0       USA      F  27.0  Adventure  Order_ID_25002281        1048     Comedy   \n",
      "1        UK      F  36.0   Children  Order_ID_11048478        1060  Children    \n",
      "2        UK      F  38.0   Children  Order_ID_62493972        1062  Children    \n",
      "3       NaN    NaN   NaN        NaN  Order_ID_40324890        1048     Comedy   \n",
      "4       USA      F  25.0  Adventure  Order_ID_79222013        1013     Comedy   \n",
      "..      ...    ...   ...        ...                ...         ...        ...   \n",
      "734     NaN    NaN   NaN        NaN  Order_ID_23136195        1031    Musical   \n",
      "735     USA      M  23.0  Adventure  Order_ID_26082375        1043     Comedy   \n",
      "736      UK      F  35.0   Children  Order_ID_75110109        1060  Children    \n",
      "737     NaN    NaN   NaN        NaN  Order_ID_34100400        1022     Sci-Fi   \n",
      "738     NaN    NaN   NaN        NaN  Order_ID_30733621        1024     Horror   \n",
      "\n",
      "                            Film_Title  Price PurchTime   PurchDate Buy_for  \n",
      "0                   This was Tinny Sap   9.99  23:50:02  25/02/2001  Myself  \n",
      "1                          The Buppets   5.99  23:40:18  22/02/2001  Family  \n",
      "2                      Bogus the Clown   5.99  08:37:27  21/02/2001  Family  \n",
      "3                   This was Tinny Sap   9.99  20:17:16  25/02/2001     NaN  \n",
      "4    Dr OddBloke or: What bomb? Where?  15.99  21:12:49  22/02/2001  Myself  \n",
      "..                                 ...    ...       ...         ...     ...  \n",
      "734                  Cryin in the Rain   5.99  02:49:01  22/02/2001     NaN  \n",
      "735                    Fetche la Vache  15.99  22:09:40  22/02/2001  Myself  \n",
      "736                        The Buppets   5.99  12:49:10  22/02/2001  Family  \n",
      "737                        The Tempest   7.99  21:02:11  25/02/2001     NaN  \n",
      "738                            Psychic   8.99  04:11:51  19/02/2001     NaN  \n",
      "\n",
      "[739 rows x 16 columns]\n"
     ]
    }
   ],
   "source": [
    "print(df)"
   ]
  },
  {
   "cell_type": "code",
   "execution_count": 3,
   "metadata": {},
   "outputs": [
    {
     "name": "stdout",
     "output_type": "stream",
     "text": [
      "Tamanho do df: 11824\n",
      "              Age   Product_ID       Price\n",
      "count  444.000000   739.000000  739.000000\n",
      "mean    43.182432  1039.170501    8.742368\n",
      "std     14.657891    17.813339    2.879627\n",
      "min     21.000000  1001.000000    5.990000\n",
      "25%     32.000000  1024.000000    5.990000\n",
      "50%     37.000000  1042.000000    7.990000\n",
      "75%     58.000000  1056.000000    9.990000\n",
      "max     75.000000  1062.000000   15.990000\n",
      "\n",
      "Username       object\n",
      "TitleCli       object\n",
      "Name           object\n",
      "Address        object\n",
      "Country        object\n",
      "Gender         object\n",
      "Age           float64\n",
      "Favourites     object\n",
      "Order_ID       object\n",
      "Product_ID      int64\n",
      "Style          object\n",
      "Film_Title     object\n",
      "Price         float64\n",
      "PurchTime      object\n",
      "PurchDate      object\n",
      "Buy_for        object\n",
      "dtype: object\n"
     ]
    }
   ],
   "source": [
    "print('Tamanho do df: '+str(df.size))\n",
    "print(df.describe())\n",
    "print()\n",
    "print(df.dtypes)\n"
   ]
  },
  {
   "cell_type": "code",
   "execution_count": 4,
   "metadata": {},
   "outputs": [
    {
     "name": "stdout",
     "output_type": "stream",
     "text": [
      "0      False\n",
      "1      False\n",
      "2      False\n",
      "3       True\n",
      "4      False\n",
      "       ...  \n",
      "734     True\n",
      "735    False\n",
      "736    False\n",
      "737     True\n",
      "738     True\n",
      "Length: 739, dtype: bool\n"
     ]
    }
   ],
   "source": [
    "missing_rows = df.isnull().any(axis=1)\n",
    "# dframe_missing_rows = df[missing_rows]\n",
    "# print(dframe_missing_rows)\n",
    "print(missing_rows)"
   ]
  },
  {
   "cell_type": "code",
   "execution_count": 5,
   "metadata": {},
   "outputs": [
    {
     "name": "stdout",
     "output_type": "stream",
     "text": [
      "Username      False\n",
      "TitleCli      False\n",
      "Name          False\n",
      "Address       False\n",
      "Country        True\n",
      "Gender         True\n",
      "Age            True\n",
      "Favourites     True\n",
      "Order_ID      False\n",
      "Product_ID    False\n",
      "Style         False\n",
      "Film_Title    False\n",
      "Price         False\n",
      "PurchTime     False\n",
      "PurchDate     False\n",
      "Buy_for        True\n",
      "dtype: bool\n"
     ]
    }
   ],
   "source": [
    "columns_with_NaN = df.isnull().any()\n",
    "print(columns_with_NaN)"
   ]
  },
  {
   "cell_type": "code",
   "execution_count": 6,
   "metadata": {},
   "outputs": [],
   "source": [
    "#ex2"
   ]
  },
  {
   "cell_type": "code",
   "execution_count": 19,
   "metadata": {},
   "outputs": [
    {
     "data": {
      "image/png": "[encoded data removed]",
      "text/plain": [
       "<Figure size 640x480 with 1 Axes>"
      ]
     },
     "metadata": {},
     "output_type": "display_data"
    }
   ],
   "source": [
    "sns.countplot(data=df, x='TitleCli')\n",
    "plt.title(\"Distribution of Client Titles\")\n",
    "plt.xticks(rotation=45)\n",
    "plt.show()"
   ]
  },
  {
   "cell_type": "code",
   "execution_count": 8,
   "metadata": {},
   "outputs": [
    {
     "data": {
      "image/png": "[encoded data removed]",
      "text/plain": [
       "<Figure size 640x480 with 1 Axes>"
      ]
     },
     "metadata": {},
     "output_type": "display_data"
    }
   ],
   "source": [
    "sns.countplot(data=df, x='Gender')\n",
    "plt.title(\"Distribution of Gender\")\n",
    "plt.show()"
   ]
  },
  {
   "cell_type": "code",
   "execution_count": 9,
   "metadata": {},
   "outputs": [
    {
     "data": {
      "image/png": "[encoded data removed]",
      "text/plain": [
       "<Figure size 640x480 with 1 Axes>"
      ]
     },
     "metadata": {},
     "output_type": "display_data"
    }
   ],
   "source": [
    "# Plot the distribution of Country\n",
    "sns.countplot(data=df, x='Country')\n",
    "plt.title(\"Distribution of Countries\")\n",
    "plt.xticks(rotation=90)  # This might be needed if you have many countries\n",
    "plt.show()"
   ]
  },
  {
   "cell_type": "code",
   "execution_count": 26,
   "metadata": {},
   "outputs": [
    {
     "data": {
      "image/png": "[encoded data removed]",
      "text/plain": [
       "<Figure size 640x480 with 1 Axes>"
      ]
     },
     "metadata": {},
     "output_type": "display_data"
    }
   ],
   "source": [
    "#fazer correções aos dados\n",
    "#title cliente tem inconsistências devido à existências de whitespaces a mais. fazer trim\n",
    "\n",
    "df['TitleCli'] = df['TitleCli'].str.strip()\n",
    "#print(df)\n",
    "\n",
    "#check to see if dataset inconsistencies were fixed:\n",
    "sns.countplot(data=df, x='TitleCli')\n",
    "plt.title(\"Distribution of Client Titles\")\n",
    "plt.xticks(rotation=45)\n",
    "plt.show()"
   ]
  },
  {
   "cell_type": "code",
   "execution_count": 22,
   "metadata": {},
   "outputs": [],
   "source": [
    "#ex3"
   ]
  },
  {
   "cell_type": "code",
   "execution_count": 23,
   "metadata": {},
   "outputs": [
    {
     "name": "stdout",
     "output_type": "stream",
     "text": [
      "Style\n",
      "Adventure     47\n",
      "Children     151\n",
      "Comedy       214\n",
      "Drama         94\n",
      "Horror        50\n",
      "Musical       28\n",
      "Sci-Fi        92\n",
      "Western       63\n",
      "Name: Film_Title, dtype: int64\n"
     ]
    }
   ],
   "source": [
    "#3.1\n",
    "films_by_style = df.groupby('Style')['Film_Title'].count()\n",
    "\n",
    "print(films_by_style)"
   ]
  },
  {
   "cell_type": "code",
   "execution_count": 13,
   "metadata": {},
   "outputs": [
    {
     "name": "stdout",
     "output_type": "stream",
     "text": [
      "Style\n",
      "Adventure     5\n",
      "Children      3\n",
      "Comedy       18\n",
      "Drama         3\n",
      "Horror        4\n",
      "Musical       5\n",
      "Sci-Fi       11\n",
      "Western      12\n",
      "Name: Film_Title, dtype: int64\n"
     ]
    }
   ],
   "source": [
    "#3.2\n",
    "films_by_style_unique = df.groupby('Style')['Film_Title'].nunique()\n",
    "\n",
    "print(films_by_style_unique)"
   ]
  },
  {
   "cell_type": "code",
   "execution_count": 14,
   "metadata": {},
   "outputs": [
    {
     "name": "stdout",
     "output_type": "stream",
     "text": [
      "        Style                                         Film_Title  Units_Sold\n",
      "0   Adventure                                         Hard Rider           9\n",
      "1   Adventure                                     LighteningBall           7\n",
      "2   Adventure                                     The Fourth Man          10\n",
      "3   Adventure                                        The IP File          11\n",
      "4   Adventure                                     The Nine Rules          10\n",
      "..        ...                                                ...         ...\n",
      "56    Western                                        The Finders           3\n",
      "57    Western  The Nice the not so nice and the visually chal...           5\n",
      "58    Western                                    The average six           4\n",
      "59    Western                                         TheatreBus          17\n",
      "60    Western                                          True Salt           3\n",
      "\n",
      "[61 rows x 3 columns]\n"
     ]
    }
   ],
   "source": [
    "#3.3\n",
    "# Group by 'Style' and 'Film_Title' and count the number of units sold for each combination\n",
    "units_sold = df.groupby(['Style', 'Film_Title']).size().reset_index(name='Units_Sold')\n",
    "\n",
    "print(units_sold)"
   ]
  },
  {
   "cell_type": "code",
   "execution_count": 15,
   "metadata": {},
   "outputs": [
    {
     "name": "stdout",
     "output_type": "stream",
     "text": [
      "1    547\n",
      "2     74\n",
      "3     12\n",
      "4      2\n",
      "dtype: int64\n"
     ]
    }
   ],
   "source": [
    "#3.4\n",
    "number_costumers = df.groupby('Username').size()\n",
    "purchase_numbers = number_costumers.value_counts().sort_index()\n",
    "print(purchase_numbers)"
   ]
  },
  {
   "cell_type": "code",
   "execution_count": 16,
   "metadata": {},
   "outputs": [
    {
     "name": "stdout",
     "output_type": "stream",
     "text": [
      "       Style  units_sold  min_price  max_price  avg_price   std_dev\n",
      "0  Adventure          47       7.99      12.99  11.607021  1.951067\n",
      "1  Children          151       5.99       5.99   5.990000  0.000000\n",
      "2     Comedy         214       5.99      15.99  10.027383  3.325602\n",
      "3      Drama          94       7.99       7.99   7.990000  0.000000\n",
      "4     Horror          50       5.99       8.99   7.310000  1.463013\n",
      "5    Musical          28       5.99       5.99   5.990000  0.000000\n",
      "6     Sci-Fi          92       5.99      15.99  10.685652  2.314499\n",
      "7    Western          63       5.99      12.99   9.482063  2.422163\n"
     ]
    }
   ],
   "source": [
    "#3.5\n",
    "summary_table = df.groupby('Style').agg(\n",
    "    units_sold=('Product_ID', 'size'),\n",
    "    min_price=('Price', 'min'),\n",
    "    max_price=('Price', 'max'),\n",
    "    avg_price=('Price', 'mean'),\n",
    "    std_dev=('Price', 'std')\n",
    ").reset_index()\n",
    "\n",
    "print(summary_table)"
   ]
  },
  {
   "cell_type": "code",
   "execution_count": null,
   "metadata": {},
   "outputs": [],
   "source": [
    "#ex4"
   ]
  },
  {
   "cell_type": "code",
   "execution_count": 30,
   "metadata": {},
   "outputs": [
    {
     "name": "stdout",
     "output_type": "stream",
     "text": [
      "         Username TitleCli         Name                         Address  \\\n",
      "0    user_1000884      MRS  DORIS126855  89594388-Boris Road-Doris Town   \n",
      "1    user_1009862      MRS   DORIS42531  75844730-Boris Road-Doris Town   \n",
      "2    user_1025298     MISS  DORIS136770  39704306-Boris Road-Doris Town   \n",
      "3    user_1039001       MR  BORIS111529  46627181-Boris Road-Doris Town   \n",
      "4    user_1040891      MRS  DORIS142154  82645107-Boris Road-Doris Town   \n",
      "..            ...      ...          ...                             ...   \n",
      "734   user_972607      MRS    DORIS6273  36217755-Boris Road-Doris Town   \n",
      "735   user_975665       MR   BORIS95778  43605144-Boris Road-Doris Town   \n",
      "736   user_979177      MRS   DORIS74765  94620905-Boris Road-Doris Town   \n",
      "737    user_99281       MR   BORIS13620  57719599-Boris Road-Doris Town   \n",
      "738   user_993341       MR  BORIS137380  29294945-Boris Road-Doris Town   \n",
      "\n",
      "    Country Gender   Age Favourites           Order_ID  Product_ID      Style  \\\n",
      "0       USA      F  27.0  Adventure  Order_ID_25002281        1048     Comedy   \n",
      "1        UK      F  36.0   Children  Order_ID_11048478        1060  Children    \n",
      "2        UK      F  38.0   Children  Order_ID_62493972        1062  Children    \n",
      "3       NaN    NaN   NaN        NaN  Order_ID_40324890        1048     Comedy   \n",
      "4       USA      F  25.0  Adventure  Order_ID_79222013        1013     Comedy   \n",
      "..      ...    ...   ...        ...                ...         ...        ...   \n",
      "734     NaN    NaN   NaN        NaN  Order_ID_23136195        1031    Musical   \n",
      "735     USA      M  23.0  Adventure  Order_ID_26082375        1043     Comedy   \n",
      "736      UK      F  35.0   Children  Order_ID_75110109        1060  Children    \n",
      "737     NaN    NaN   NaN        NaN  Order_ID_34100400        1022     Sci-Fi   \n",
      "738     NaN    NaN   NaN        NaN  Order_ID_30733621        1024     Horror   \n",
      "\n",
      "                            Film_Title  Price PurchTime  PurchDate Buy_for  \\\n",
      "0                   This was Tinny Sap   9.99  23:50:02 2001-02-25  Myself   \n",
      "1                          The Buppets   5.99  23:40:18 2001-02-22  Family   \n",
      "2                      Bogus the Clown   5.99  08:37:27 2001-02-21  Family   \n",
      "3                   This was Tinny Sap   9.99  20:17:16 2001-02-25     NaN   \n",
      "4    Dr OddBloke or: What bomb? Where?  15.99  21:12:49 2001-02-22  Myself   \n",
      "..                                 ...    ...       ...        ...     ...   \n",
      "734                  Cryin in the Rain   5.99  02:49:01 2001-02-22     NaN   \n",
      "735                    Fetche la Vache  15.99  22:09:40 2001-02-22  Myself   \n",
      "736                        The Buppets   5.99  12:49:10 2001-02-22  Family   \n",
      "737                        The Tempest   7.99  21:02:11 2001-02-25     NaN   \n",
      "738                            Psychic   8.99  04:11:51 2001-02-19     NaN   \n",
      "\n",
      "     DayOfWeek  \n",
      "0       Sunday  \n",
      "1     Thursday  \n",
      "2    Wednesday  \n",
      "3       Sunday  \n",
      "4     Thursday  \n",
      "..         ...  \n",
      "734   Thursday  \n",
      "735   Thursday  \n",
      "736   Thursday  \n",
      "737     Sunday  \n",
      "738     Monday  \n",
      "\n",
      "[739 rows x 17 columns]\n"
     ]
    }
   ],
   "source": [
    "#4.1\n",
    "#print(df.columns)\n",
    "#usar a coluna PurchDate e obter o dia da semana em que a compra ocorreu\n",
    "#converter a data para dateTime em pandas\n",
    "\n",
    "df['PurchDate'] = pd.to_datetime(df['PurchDate'])\n",
    "\n",
    "df['DayOfWeek'] = df['PurchDate'].dt.day_name()\n",
    "print(df)"
   ]
  },
  {
   "cell_type": "code",
   "execution_count": 31,
   "metadata": {},
   "outputs": [
    {
     "name": "stdout",
     "output_type": "stream",
     "text": [
      "         Username TitleCli         Name                         Address  \\\n",
      "0    user_1000884      MRS  DORIS126855  89594388-Boris Road-Doris Town   \n",
      "1    user_1009862      MRS   DORIS42531  75844730-Boris Road-Doris Town   \n",
      "2    user_1025298     MISS  DORIS136770  39704306-Boris Road-Doris Town   \n",
      "3    user_1039001       MR  BORIS111529  46627181-Boris Road-Doris Town   \n",
      "4    user_1040891      MRS  DORIS142154  82645107-Boris Road-Doris Town   \n",
      "..            ...      ...          ...                             ...   \n",
      "734   user_972607      MRS    DORIS6273  36217755-Boris Road-Doris Town   \n",
      "735   user_975665       MR   BORIS95778  43605144-Boris Road-Doris Town   \n",
      "736   user_979177      MRS   DORIS74765  94620905-Boris Road-Doris Town   \n",
      "737    user_99281       MR   BORIS13620  57719599-Boris Road-Doris Town   \n",
      "738   user_993341       MR  BORIS137380  29294945-Boris Road-Doris Town   \n",
      "\n",
      "    Country Gender   Age Favourites           Order_ID  Product_ID      Style  \\\n",
      "0       USA      F  27.0  Adventure  Order_ID_25002281        1048     Comedy   \n",
      "1        UK      F  36.0   Children  Order_ID_11048478        1060  Children    \n",
      "2        UK      F  38.0   Children  Order_ID_62493972        1062  Children    \n",
      "3       NaN    NaN   NaN        NaN  Order_ID_40324890        1048     Comedy   \n",
      "4       USA      F  25.0  Adventure  Order_ID_79222013        1013     Comedy   \n",
      "..      ...    ...   ...        ...                ...         ...        ...   \n",
      "734     NaN    NaN   NaN        NaN  Order_ID_23136195        1031    Musical   \n",
      "735     USA      M  23.0  Adventure  Order_ID_26082375        1043     Comedy   \n",
      "736      UK      F  35.0   Children  Order_ID_75110109        1060  Children    \n",
      "737     NaN    NaN   NaN        NaN  Order_ID_34100400        1022     Sci-Fi   \n",
      "738     NaN    NaN   NaN        NaN  Order_ID_30733621        1024     Horror   \n",
      "\n",
      "                            Film_Title  Price PurchTime  PurchDate Buy_for  \\\n",
      "0                   This was Tinny Sap   9.99  23:50:02 2001-02-25  Myself   \n",
      "1                          The Buppets   5.99  23:40:18 2001-02-22  Family   \n",
      "2                      Bogus the Clown   5.99  08:37:27 2001-02-21  Family   \n",
      "3                   This was Tinny Sap   9.99  20:17:16 2001-02-25     NaN   \n",
      "4    Dr OddBloke or: What bomb? Where?  15.99  21:12:49 2001-02-22  Myself   \n",
      "..                                 ...    ...       ...        ...     ...   \n",
      "734                  Cryin in the Rain   5.99  02:49:01 2001-02-22     NaN   \n",
      "735                    Fetche la Vache  15.99  22:09:40 2001-02-22  Myself   \n",
      "736                        The Buppets   5.99  12:49:10 2001-02-22  Family   \n",
      "737                        The Tempest   7.99  21:02:11 2001-02-25     NaN   \n",
      "738                            Psychic   8.99  04:11:51 2001-02-19     NaN   \n",
      "\n",
      "     DayOfWeek  DayPeriod  \n",
      "0       Sunday      Night  \n",
      "1     Thursday      Night  \n",
      "2    Wednesday    Morning  \n",
      "3       Sunday    Evening  \n",
      "4     Thursday      Night  \n",
      "..         ...        ...  \n",
      "734   Thursday      Night  \n",
      "735   Thursday      Night  \n",
      "736   Thursday  Afternoon  \n",
      "737     Sunday      Night  \n",
      "738     Monday      Night  \n",
      "\n",
      "[739 rows x 18 columns]\n"
     ]
    }
   ],
   "source": [
    "#4.2\n",
    "#pegar na hora da compra e apresentar uma nova coluna com a altura do dia (manha, tarde, noite, etc)\n",
    "def period_of_day(time_str):\n",
    "    hour = (int)(time_str.split(':')[0])\n",
    "    if 6 <= hour < 12:\n",
    "        return 'Morning'\n",
    "    elif 12 <= hour <17:\n",
    "        return 'Afternoon'\n",
    "    elif 17 <= hour <21:\n",
    "        return 'Evening'\n",
    "    else:\n",
    "        return 'Night'\n",
    "    \n",
    "df['DayPeriod'] = df['PurchTime'].apply(period_of_day)\n",
    "\n",
    "print(df)"
   ]
  },
  {
   "cell_type": "code",
   "execution_count": null,
   "metadata": {},
   "outputs": [],
   "source": []
  }
 ],
 "metadata": {
  "kernelspec": {
   "display_name": "base",
   "language": "python",
   "name": "python3"
  },
  "language_info": {
   "codemirror_mode": {
    "name": "ipython",
    "version": 3
   },
   "file_extension": ".py",
   "mimetype": "text/x-python",
   "name": "python",
   "nbconvert_exporter": "python",
   "pygments_lexer": "ipython3",
   "version": "3.11.4"
  },
  "orig_nbformat": 4
 },
 "nbformat": 4,
 "nbformat_minor": 2
}
