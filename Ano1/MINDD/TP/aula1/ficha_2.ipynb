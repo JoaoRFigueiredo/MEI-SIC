{
 "cells": [
  {
   "cell_type": "code",
   "execution_count": 2,
   "metadata": {},
   "outputs": [],
   "source": [
    "import pandas as pd\n",
    "import numpy as np\n",
    "import scipy as sc\n",
    "import seaborn as sns"
   ]
  },
  {
   "cell_type": "code",
   "execution_count": 3,
   "metadata": {},
   "outputs": [
    {
     "name": "stdout",
     "output_type": "stream",
     "text": [
      "          Aveiro  Braga  Porto  Viseu  Coimbra  Covilhã  Leiria  Lisboa  \\\n",
      "Mulheres    50.3   60.6   71.5   59.1     82.3     50.9    79.3    41.4   \n",
      "Homens      54.4   52.4   67.1   78.3     59.2     65.1    86.3    81.3   \n",
      "\n",
      "          Setúbal  Faro  \n",
      "Mulheres     80.9  72.1  \n",
      "Homens       57.3  61.3  \n"
     ]
    }
   ],
   "source": [
    "data = {\n",
    "    'Aveiro': [50.3, 54.4],\n",
    "    'Braga': [60.6, 52.4],\n",
    "    'Porto': [71.5, 67.1],\n",
    "    'Viseu': [59.1, 78.3],\n",
    "    'Coimbra': [82.3, 59.2],\n",
    "    'Covilhã': [50.9, 65.1],\n",
    "    'Leiria': [79.3, 86.3],\n",
    "    'Lisboa': [41.4, 81.3],\n",
    "    'Setúbal': [80.9, 57.3],\n",
    "    'Faro': [72.1, 61.3]\n",
    "}\n",
    "\n",
    "index = ['Mulheres', 'Homens']\n",
    "\n",
    "df = pd.DataFrame(data, index=index)\n",
    "\n",
    "print(df)"
   ]
  },
  {
   "cell_type": "code",
   "execution_count": 4,
   "metadata": {},
   "outputs": [
    {
     "name": "stdout",
     "output_type": "stream",
     "text": [
      "Média de fumadores por cidade:\n",
      "Aveiro     52.35\n",
      "Braga      56.50\n",
      "Porto      69.30\n",
      "Viseu      68.70\n",
      "Coimbra    70.75\n",
      "Covilhã    58.00\n",
      "Leiria     82.80\n",
      "Lisboa     61.35\n",
      "Setúbal    69.10\n",
      "Faro       66.70\n",
      "dtype: float64\n",
      "\n",
      "Média de fumadores por sexo:\n",
      "Mulheres    64.84\n",
      "Homens      66.27\n",
      "dtype: float64\n"
     ]
    }
   ],
   "source": [
    "#b)\n",
    "print('Média de fumadores por cidade:')\n",
    "print(df.mean())\n",
    "\n",
    "print('\\nMédia de fumadores por sexo:')\n",
    "print(df.mean(axis=1))"
   ]
  },
  {
   "cell_type": "code",
   "execution_count": 5,
   "metadata": {},
   "outputs": [
    {
     "name": "stdout",
     "output_type": "stream",
     "text": [
      "Coimbra    82.3\n",
      "Setúbal    80.9\n",
      "Name: Mulheres, dtype: float64\n"
     ]
    }
   ],
   "source": [
    "#c)\n",
    "top_2_cities = df.loc['Mulheres'].nlargest(2)\n",
    "print(top_2_cities)"
   ]
  },
  {
   "cell_type": "code",
   "execution_count": 12,
   "metadata": {},
   "outputs": [
    {
     "name": "stdout",
     "output_type": "stream",
     "text": [
      "Lisboa     39.9\n",
      "Setúbal    23.6\n",
      "Coimbra    23.1\n",
      "Viseu      19.2\n",
      "Covilhã    14.2\n",
      "Faro       10.8\n",
      "Braga       8.2\n",
      "Leiria      7.0\n",
      "Porto       4.4\n",
      "Aveiro      4.1\n",
      "dtype: float64\n"
     ]
    }
   ],
   "source": [
    "#d)\n",
    "\n",
    "difference_df = abs(df.loc['Homens'] - df.loc['Mulheres'])\n",
    "difference_df.sort_values(ascending=False, inplace=True)\n",
    "\n",
    "\n",
    "print(difference_df)\n"
   ]
  },
  {
   "cell_type": "code",
   "execution_count": 13,
   "metadata": {},
   "outputs": [
    {
     "name": "stdout",
     "output_type": "stream",
     "text": [
      "Aveiro     False\n",
      "Braga       True\n",
      "Porto       True\n",
      "Viseu      False\n",
      "Coimbra     True\n",
      "Covilhã    False\n",
      "Leiria     False\n",
      "Lisboa     False\n",
      "Setúbal     True\n",
      "Faro        True\n",
      "dtype: bool\n"
     ]
    }
   ],
   "source": [
    "#e)\n",
    "#percentagem de fumadoras superior à % de fumadores \n",
    "women_df = df.loc['Mulheres'] > df.loc['Homens']\n",
    "\n",
    "print(women_df)"
   ]
  },
  {
   "cell_type": "code",
   "execution_count": 25,
   "metadata": {},
   "outputs": [
    {
     "name": "stdout",
     "output_type": "stream",
     "text": [
      "         Aveiro     Braga     Porto   Viseu   Coimbra Covilhã  Leiria  Lisboa  \\\n",
      "Maioria  Homens  Mulheres  Mulheres  Homens  Mulheres  Homens  Homens  Homens   \n",
      "\n",
      "          Setúbal      Faro Maioria  \n",
      "Maioria  Mulheres  Mulheres  Homens  \n"
     ]
    }
   ],
   "source": [
    "#f)\n",
    "\n",
    "fumaMais_series = np.where(df.loc['Homens'] > df.loc['Mulheres'], 'Homens', 'Mulheres')\n",
    "fumaMais_df = pd.DataFrame([fumaMais_series], columns=df.columns, index=['Maioria'])\n",
    "print(fumaMais_df)\n",
    "#print(df)\n",
    "\n"
   ]
  }
 ],
 "metadata": {
  "kernelspec": {
   "display_name": "base",
   "language": "python",
   "name": "python3"
  },
  "language_info": {
   "codemirror_mode": {
    "name": "ipython",
    "version": 3
   },
   "file_extension": ".py",
   "mimetype": "text/x-python",
   "name": "python",
   "nbconvert_exporter": "python",
   "pygments_lexer": "ipython3",
   "version": "3.11.4"
  }
 },
 "nbformat": 4,
 "nbformat_minor": 2
}
