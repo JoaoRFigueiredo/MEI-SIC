{
 "cells": [
  {
   "cell_type": "code",
   "execution_count": 1,
   "metadata": {},
   "outputs": [],
   "source": [
    "import pandas as pd\n",
    "import numpy as np\n",
    "import scipy as sc\n",
    "import seaborn as sns\n"
   ]
  },
  {
   "cell_type": "code",
   "execution_count": 2,
   "metadata": {},
   "outputs": [
    {
     "name": "stdout",
     "output_type": "stream",
     "text": [
      "a) \n",
      "Bragança    10.3\n",
      "Braga       10.6\n",
      "Porto       11.5\n",
      "Aveiro      12.3\n",
      "Coimbra      9.9\n",
      "Leiria       9.3\n",
      "Lisboa      12.1\n",
      "Beja        10.9\n",
      "Évora       11.4\n",
      "Faro         9.1\n",
      "dtype: float64\n",
      "\n",
      "b) \n",
      "Faro         9.1\n",
      "Évora       11.4\n",
      "Beja        10.9\n",
      "Lisboa      12.1\n",
      "Leiria       9.3\n",
      "Coimbra      9.9\n",
      "Aveiro      12.3\n",
      "Porto       11.5\n",
      "Braga       10.6\n",
      "Bragança    10.3\n",
      "dtype: float64\n"
     ]
    }
   ],
   "source": [
    "#ex1\n",
    "#a)\n",
    "pcrSerie = pd.Series([10.3, 10.6,  11.5,  12.3,  9.9,  9.3,  12.1,  10.9,  11.4,  9.1], index=['Bragança',  'Braga',  'Porto',  'Aveiro',  'Coimbra',  'Leiria',  'Lisboa',  'Beja',  'Évora',  'Faro'])\n",
    "print(f\"a) \\n{pcrSerie}\")\n",
    "\n",
    "#b)\n",
    "#orden inversa\n",
    "print(f\"\\nb) \\n{pcrSerie[::-1]}\")"
   ]
  },
  {
   "cell_type": "code",
   "execution_count": 3,
   "metadata": {},
   "outputs": [
    {
     "name": "stdout",
     "output_type": "stream",
     "text": [
      "\n",
      "c) \n",
      "Bragança    10.3\n",
      "Braga       10.6\n",
      "Porto       11.5\n",
      "dtype: float64\n"
     ]
    }
   ],
   "source": [
    "#c)\n",
    "print(f\"\\nc) \\n{pcrSerie[:3]}\")"
   ]
  },
  {
   "cell_type": "code",
   "execution_count": 4,
   "metadata": {},
   "outputs": [
    {
     "name": "stdout",
     "output_type": "stream",
     "text": [
      "\n",
      "d) \n",
      "Beja     10.9\n",
      "Évora    11.4\n",
      "Faro      9.1\n",
      "dtype: float64\n"
     ]
    }
   ],
   "source": [
    "#d)\n",
    "print(f\"\\nd) \\n{pcrSerie[-3:]}\")"
   ]
  },
  {
   "cell_type": "code",
   "execution_count": 5,
   "metadata": {},
   "outputs": [
    {
     "name": "stdout",
     "output_type": "stream",
     "text": [
      "e)\n",
      "Aveiro: 12.3\n",
      "Coimbra: 9.9\n",
      "Leiria: 9.3\n",
      "Lisboa: 12.1\n"
     ]
    }
   ],
   "source": [
    "#e)\n",
    "cidades = ['Aveiro', 'Coimbra', 'Leiria', 'Lisboa']\n",
    "print('e)')\n",
    "for label in pcrSerie.index:\n",
    "    for cidade in cidades:\n",
    "        if label == cidade:\n",
    "            print(f\"{label}: {pcrSerie[label]}\")"
   ]
  },
  {
   "cell_type": "code",
   "execution_count": 6,
   "metadata": {},
   "outputs": [
    {
     "name": "stdout",
     "output_type": "stream",
     "text": [
      "f)\n",
      "Mean = 10.74\n"
     ]
    }
   ],
   "source": [
    "#f)\n",
    "print('f)')\n",
    "\n",
    "media = pcrSerie.mean()\n",
    "print(f\"Mean = {media}\")"
   ]
  },
  {
   "cell_type": "code",
   "execution_count": 7,
   "metadata": {},
   "outputs": [
    {
     "name": "stdout",
     "output_type": "stream",
     "text": [
      "g)\n",
      "Aveiro: 12.3\n",
      "Faro: 9.1\n"
     ]
    }
   ],
   "source": [
    "#g)\n",
    "\n",
    "print('g)')\n",
    "\n",
    "cidade_cara = pcrSerie.max()\n",
    "\n",
    "cidade_barata = pcrSerie.min()\n",
    "\n",
    "\n",
    "for label in pcrSerie.index:\n",
    "    if pcrSerie[label] == cidade_barata:\n",
    "        print(f\"{label}: {pcrSerie[label]}\")\n",
    "    if pcrSerie[label] == cidade_cara:\n",
    "        print(f\"{label}: {pcrSerie[label]}\")\n"
   ]
  },
  {
   "cell_type": "code",
   "execution_count": 8,
   "metadata": {},
   "outputs": [
    {
     "name": "stdout",
     "output_type": "stream",
     "text": [
      "h)\n",
      "Porto: 11.5\n",
      "Évora: 11.4\n"
     ]
    }
   ],
   "source": [
    "#h)\n",
    "print('h)')\n",
    "for label in pcrSerie.index:\n",
    "    if 11 <= pcrSerie[label] <=12:\n",
    "        print(f\"{label}: {pcrSerie[label]}\")"
   ]
  },
  {
   "cell_type": "code",
   "execution_count": 9,
   "metadata": {},
   "outputs": [
    {
     "name": "stdout",
     "output_type": "stream",
     "text": [
      "i)\n",
      "Bragança    10.3000\n",
      "Braga       10.6000\n",
      "Porto       11.2125\n",
      "Aveiro      11.9925\n",
      "Coimbra      9.9000\n",
      "Leiria       9.3000\n",
      "Lisboa      11.7975\n",
      "Beja        10.6275\n",
      "Évora       11.1150\n",
      "Faro         9.1000\n",
      "dtype: float64\n"
     ]
    }
   ],
   "source": [
    "#i)\n",
    "print('i)')\n",
    "mean_price = pcrSerie.mean()\n",
    "for label in pcrSerie.index:\n",
    "    if  pcrSerie[label] > mean_price:\n",
    "        pcrSerie[label] = pcrSerie[label]*0.975\n",
    "\n",
    "print(pcrSerie)\n"
   ]
  },
  {
   "cell_type": "code",
   "execution_count": 14,
   "metadata": {},
   "outputs": [
    {
     "name": "stdout",
     "output_type": "stream",
     "text": [
      "j)\n",
      "Aveiro      11.9925\n",
      "Lisboa      11.7975\n",
      "Porto       11.2125\n",
      "Évora       11.1150\n",
      "Beja        10.6275\n",
      "Braga       10.6000\n",
      "Bragança    10.3000\n",
      "Coimbra      9.9000\n",
      "Leiria       9.3000\n",
      "Faro         9.1000\n",
      "dtype: float64\n"
     ]
    }
   ],
   "source": [
    "#j)\n",
    "print('j)')\n",
    "\n",
    "pcrSerie.sort_values(ascending=False, inplace=True)\n",
    "print(pcrSerie)\n"
   ]
  }
 ],
 "metadata": {
  "kernelspec": {
   "display_name": "Python 3 (ipykernel)",
   "language": "python",
   "name": "python3"
  },
  "language_info": {
   "codemirror_mode": {
    "name": "ipython",
    "version": 3
   },
   "file_extension": ".py",
   "mimetype": "text/x-python",
   "name": "python",
   "nbconvert_exporter": "python",
   "pygments_lexer": "ipython3",
   "version": "3.11.4"
  }
 },
 "nbformat": 4,
 "nbformat_minor": 2
}
