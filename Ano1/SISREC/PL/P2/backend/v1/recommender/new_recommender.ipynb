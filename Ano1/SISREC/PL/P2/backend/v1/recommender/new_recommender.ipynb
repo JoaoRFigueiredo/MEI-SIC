{
 "cells": [
  {
   "cell_type": "code",
   "execution_count": 43,
   "metadata": {},
   "outputs": [],
   "source": [
    "import pandas as pd\n",
    "import numpy as np\n",
    "import scipy as sc\n",
    "import seaborn as sns\n",
    "import matplotlib.pyplot as plt\n"
   ]
  },
  {
   "cell_type": "code",
   "execution_count": 44,
   "metadata": {},
   "outputs": [],
   "source": [
    "#read csv(s)\n",
    "movies_df = pd.read_csv(\"dataset/small_dataset/movies_full_2.csv\")\n",
    "ratings_df = pd.read_csv(\"dataset/small_dataset/ratings.csv\")\n",
    "tags_df = pd.read_csv(\"dataset/small_dataset/tags.csv\")\n",
    "links_df = pd.read_csv(\"dataset/small_dataset/links.csv\")\n"
   ]
  },
  {
   "cell_type": "code",
   "execution_count": 45,
   "metadata": {},
   "outputs": [],
   "source": [
    "#drop timestamp as it is only consuming memory\n",
    "ratings_df.drop('timestamp', axis=1, inplace=True)\n",
    "tags_df.drop('timestamp', axis=1, inplace=True)\n",
    "#movies_df.drop(columns=(['imdbId', 'url', 'titleLower']), inplace=True)"
   ]
  },
  {
   "cell_type": "code",
   "execution_count": 46,
   "metadata": {},
   "outputs": [],
   "source": [
    "\n",
    "\n",
    "# movies_2 = movies_df.copy()\n",
    "\n",
    "\n",
    "\n",
    "\n",
    "# movies_df['genres'] = movies_df['genres'].str.split('|')\n",
    "# movies_df['genres'] = movies_df['genres'].apply(lambda x: ', '.join(x)) \n",
    "# # genres_encoded = movies_df['genres'].str.get_dummies(sep='|')\n",
    "# # movies_df['year'] = movies_df['title'].str.extract('\\((\\d{4})\\)')\n",
    "\n",
    "\n",
    "# # movies_df['year'] = movies_df['year'].astype(int)\n",
    "# movies_df['decade'] = (movies_df['year'] // 10) * 10\n",
    "\n",
    "# movies_df['title'].replace('\\((\\d{4})\\)', '', regex=True, inplace=True)\n",
    "# movies_df.head()\n",
    "\n",
    "\n",
    "# # Flatten the list of genres\n",
    "# movies_2['genres'] = movies_2['genres'].str.split('|')\n",
    "# all_genres = [genre for sublist in movies_2['genres'] for genre in sublist]\n",
    "\n",
    "# # Extract unique genres\n",
    "# unique_genres = list(set(all_genres))\n",
    "\n",
    "# # Sort the unique genres for better readability (optional)\n",
    "# unique_genres.sort()\n",
    "\n",
    "# # Display the unique genres\n",
    "# # print(unique_genres)\n",
    "\n",
    "# del all_genres\n",
    "# del movies_2\n",
    "\n",
    "\n",
    "\n",
    "# # print(len(unique_genres))\n",
    "\n"
   ]
  },
  {
   "cell_type": "code",
   "execution_count": 47,
   "metadata": {},
   "outputs": [
    {
     "data": {
      "text/html": [
       "<div>\n",
       "<style scoped>\n",
       "    .dataframe tbody tr th:only-of-type {\n",
       "        vertical-align: middle;\n",
       "    }\n",
       "\n",
       "    .dataframe tbody tr th {\n",
       "        vertical-align: top;\n",
       "    }\n",
       "\n",
       "    .dataframe thead th {\n",
       "        text-align: right;\n",
       "    }\n",
       "</style>\n",
       "<table border=\"1\" class=\"dataframe\">\n",
       "  <thead>\n",
       "    <tr style=\"text-align: right;\">\n",
       "      <th></th>\n",
       "      <th>movieId</th>\n",
       "      <th>title</th>\n",
       "      <th>genres</th>\n",
       "      <th>imdbId</th>\n",
       "      <th>year</th>\n",
       "      <th>url</th>\n",
       "      <th>titleLower</th>\n",
       "      <th>userId</th>\n",
       "      <th>rating</th>\n",
       "    </tr>\n",
       "  </thead>\n",
       "  <tbody>\n",
       "    <tr>\n",
       "      <th>0</th>\n",
       "      <td>1</td>\n",
       "      <td>Toy Story</td>\n",
       "      <td>Adventure|Animation|Children|Comedy|Fantasy</td>\n",
       "      <td>tt0114709</td>\n",
       "      <td>1995.0</td>\n",
       "      <td>https://m.media-amazon.com/images/M/MV5BMDU2ZW...</td>\n",
       "      <td>toy story</td>\n",
       "      <td>1</td>\n",
       "      <td>4.0</td>\n",
       "    </tr>\n",
       "    <tr>\n",
       "      <th>1</th>\n",
       "      <td>1</td>\n",
       "      <td>Toy Story</td>\n",
       "      <td>Adventure|Animation|Children|Comedy|Fantasy</td>\n",
       "      <td>tt0114709</td>\n",
       "      <td>1995.0</td>\n",
       "      <td>https://m.media-amazon.com/images/M/MV5BMDU2ZW...</td>\n",
       "      <td>toy story</td>\n",
       "      <td>5</td>\n",
       "      <td>4.0</td>\n",
       "    </tr>\n",
       "    <tr>\n",
       "      <th>2</th>\n",
       "      <td>1</td>\n",
       "      <td>Toy Story</td>\n",
       "      <td>Adventure|Animation|Children|Comedy|Fantasy</td>\n",
       "      <td>tt0114709</td>\n",
       "      <td>1995.0</td>\n",
       "      <td>https://m.media-amazon.com/images/M/MV5BMDU2ZW...</td>\n",
       "      <td>toy story</td>\n",
       "      <td>7</td>\n",
       "      <td>4.5</td>\n",
       "    </tr>\n",
       "    <tr>\n",
       "      <th>3</th>\n",
       "      <td>1</td>\n",
       "      <td>Toy Story</td>\n",
       "      <td>Adventure|Animation|Children|Comedy|Fantasy</td>\n",
       "      <td>tt0114709</td>\n",
       "      <td>1995.0</td>\n",
       "      <td>https://m.media-amazon.com/images/M/MV5BMDU2ZW...</td>\n",
       "      <td>toy story</td>\n",
       "      <td>15</td>\n",
       "      <td>2.5</td>\n",
       "    </tr>\n",
       "    <tr>\n",
       "      <th>4</th>\n",
       "      <td>1</td>\n",
       "      <td>Toy Story</td>\n",
       "      <td>Adventure|Animation|Children|Comedy|Fantasy</td>\n",
       "      <td>tt0114709</td>\n",
       "      <td>1995.0</td>\n",
       "      <td>https://m.media-amazon.com/images/M/MV5BMDU2ZW...</td>\n",
       "      <td>toy story</td>\n",
       "      <td>17</td>\n",
       "      <td>4.5</td>\n",
       "    </tr>\n",
       "  </tbody>\n",
       "</table>\n",
       "</div>"
      ],
      "text/plain": [
       "   movieId      title                                       genres     imdbId  \\\n",
       "0        1  Toy Story  Adventure|Animation|Children|Comedy|Fantasy  tt0114709   \n",
       "1        1  Toy Story  Adventure|Animation|Children|Comedy|Fantasy  tt0114709   \n",
       "2        1  Toy Story  Adventure|Animation|Children|Comedy|Fantasy  tt0114709   \n",
       "3        1  Toy Story  Adventure|Animation|Children|Comedy|Fantasy  tt0114709   \n",
       "4        1  Toy Story  Adventure|Animation|Children|Comedy|Fantasy  tt0114709   \n",
       "\n",
       "     year                                                url titleLower  \\\n",
       "0  1995.0  https://m.media-amazon.com/images/M/MV5BMDU2ZW...  toy story   \n",
       "1  1995.0  https://m.media-amazon.com/images/M/MV5BMDU2ZW...  toy story   \n",
       "2  1995.0  https://m.media-amazon.com/images/M/MV5BMDU2ZW...  toy story   \n",
       "3  1995.0  https://m.media-amazon.com/images/M/MV5BMDU2ZW...  toy story   \n",
       "4  1995.0  https://m.media-amazon.com/images/M/MV5BMDU2ZW...  toy story   \n",
       "\n",
       "   userId  rating  \n",
       "0       1     4.0  \n",
       "1       5     4.0  \n",
       "2       7     4.5  \n",
       "3      15     2.5  \n",
       "4      17     4.5  "
      ]
     },
     "execution_count": 47,
     "metadata": {},
     "output_type": "execute_result"
    }
   ],
   "source": [
    "movies_rating_user_df = pd.merge(movies_df, ratings_df, on=\"movieId\", how=\"inner\")\n",
    "movies_rating_user_df.head()"
   ]
  },
  {
   "cell_type": "code",
   "execution_count": 48,
   "metadata": {},
   "outputs": [
    {
     "data": {
      "text/html": [
       "<div>\n",
       "<style scoped>\n",
       "    .dataframe tbody tr th:only-of-type {\n",
       "        vertical-align: middle;\n",
       "    }\n",
       "\n",
       "    .dataframe tbody tr th {\n",
       "        vertical-align: top;\n",
       "    }\n",
       "\n",
       "    .dataframe thead th {\n",
       "        text-align: right;\n",
       "    }\n",
       "</style>\n",
       "<table border=\"1\" class=\"dataframe\">\n",
       "  <thead>\n",
       "    <tr style=\"text-align: right;\">\n",
       "      <th></th>\n",
       "      <th></th>\n",
       "      <th></th>\n",
       "      <th>count</th>\n",
       "      <th>mean</th>\n",
       "    </tr>\n",
       "    <tr>\n",
       "      <th>movieId</th>\n",
       "      <th>title</th>\n",
       "      <th>genres</th>\n",
       "      <th></th>\n",
       "      <th></th>\n",
       "    </tr>\n",
       "  </thead>\n",
       "  <tbody>\n",
       "    <tr>\n",
       "      <th>1</th>\n",
       "      <th>Toy Story</th>\n",
       "      <th>Adventure|Animation|Children|Comedy|Fantasy</th>\n",
       "      <td>215</td>\n",
       "      <td>3.9</td>\n",
       "    </tr>\n",
       "    <tr>\n",
       "      <th>2</th>\n",
       "      <th>Jumanji</th>\n",
       "      <th>Adventure|Children|Fantasy</th>\n",
       "      <td>110</td>\n",
       "      <td>3.4</td>\n",
       "    </tr>\n",
       "    <tr>\n",
       "      <th>3</th>\n",
       "      <th>Grumpier Old Men</th>\n",
       "      <th>Comedy|Romance</th>\n",
       "      <td>52</td>\n",
       "      <td>3.3</td>\n",
       "    </tr>\n",
       "    <tr>\n",
       "      <th>4</th>\n",
       "      <th>Waiting to Exhale</th>\n",
       "      <th>Comedy|Drama|Romance</th>\n",
       "      <td>7</td>\n",
       "      <td>2.4</td>\n",
       "    </tr>\n",
       "    <tr>\n",
       "      <th>5</th>\n",
       "      <th>Father of the Bride Part II</th>\n",
       "      <th>Comedy</th>\n",
       "      <td>49</td>\n",
       "      <td>3.1</td>\n",
       "    </tr>\n",
       "  </tbody>\n",
       "</table>\n",
       "</div>"
      ],
      "text/plain": [
       "                                                                                 count  \\\n",
       "movieId title                       genres                                               \n",
       "1       Toy Story                   Adventure|Animation|Children|Comedy|Fantasy    215   \n",
       "2       Jumanji                     Adventure|Children|Fantasy                     110   \n",
       "3       Grumpier Old Men            Comedy|Romance                                  52   \n",
       "4       Waiting to Exhale           Comedy|Drama|Romance                             7   \n",
       "5       Father of the Bride Part II Comedy                                          49   \n",
       "\n",
       "                                                                                 mean  \n",
       "movieId title                       genres                                             \n",
       "1       Toy Story                   Adventure|Animation|Children|Comedy|Fantasy   3.9  \n",
       "2       Jumanji                     Adventure|Children|Fantasy                    3.4  \n",
       "3       Grumpier Old Men            Comedy|Romance                                3.3  \n",
       "4       Waiting to Exhale           Comedy|Drama|Romance                          2.4  \n",
       "5       Father of the Bride Part II Comedy                                        3.1  "
      ]
     },
     "execution_count": 48,
     "metadata": {},
     "output_type": "execute_result"
    }
   ],
   "source": [
    "\n",
    "movies_rating_df = movies_rating_user_df[['movieId', 'title', 'rating', 'genres']].groupby(['movieId', 'title', 'genres'])['rating'].agg(['count', 'mean']).round(1)\n",
    "movies_rating_df.head()"
   ]
  },
  {
   "cell_type": "code",
   "execution_count": 49,
   "metadata": {},
   "outputs": [
    {
     "data": {
      "text/html": [
       "<div>\n",
       "<style scoped>\n",
       "    .dataframe tbody tr th:only-of-type {\n",
       "        vertical-align: middle;\n",
       "    }\n",
       "\n",
       "    .dataframe tbody tr th {\n",
       "        vertical-align: top;\n",
       "    }\n",
       "\n",
       "    .dataframe thead th {\n",
       "        text-align: right;\n",
       "    }\n",
       "</style>\n",
       "<table border=\"1\" class=\"dataframe\">\n",
       "  <thead>\n",
       "    <tr style=\"text-align: right;\">\n",
       "      <th></th>\n",
       "      <th></th>\n",
       "      <th></th>\n",
       "      <th>Num_ratings</th>\n",
       "      <th>Average_rating</th>\n",
       "    </tr>\n",
       "    <tr>\n",
       "      <th>movieId</th>\n",
       "      <th>title</th>\n",
       "      <th>genres</th>\n",
       "      <th></th>\n",
       "      <th></th>\n",
       "    </tr>\n",
       "  </thead>\n",
       "  <tbody>\n",
       "    <tr>\n",
       "      <th>356</th>\n",
       "      <th>Forrest Gump</th>\n",
       "      <th>Comedy|Drama|Romance|War</th>\n",
       "      <td>329</td>\n",
       "      <td>4.2</td>\n",
       "    </tr>\n",
       "    <tr>\n",
       "      <th>318</th>\n",
       "      <th>Shawshank Redemption, The</th>\n",
       "      <th>Crime|Drama</th>\n",
       "      <td>317</td>\n",
       "      <td>4.4</td>\n",
       "    </tr>\n",
       "    <tr>\n",
       "      <th>296</th>\n",
       "      <th>Pulp Fiction</th>\n",
       "      <th>Comedy|Crime|Drama|Thriller</th>\n",
       "      <td>307</td>\n",
       "      <td>4.2</td>\n",
       "    </tr>\n",
       "    <tr>\n",
       "      <th>593</th>\n",
       "      <th>Silence of the Lambs, The</th>\n",
       "      <th>Crime|Horror|Thriller</th>\n",
       "      <td>279</td>\n",
       "      <td>4.2</td>\n",
       "    </tr>\n",
       "    <tr>\n",
       "      <th>2571</th>\n",
       "      <th>Matrix, The</th>\n",
       "      <th>Action|Sci-Fi|Thriller</th>\n",
       "      <td>278</td>\n",
       "      <td>4.2</td>\n",
       "    </tr>\n",
       "    <tr>\n",
       "      <th>260</th>\n",
       "      <th>Star Wars: Episode IV - A New Hope</th>\n",
       "      <th>Action|Adventure|Sci-Fi</th>\n",
       "      <td>251</td>\n",
       "      <td>4.2</td>\n",
       "    </tr>\n",
       "    <tr>\n",
       "      <th>480</th>\n",
       "      <th>Jurassic Park</th>\n",
       "      <th>Action|Adventure|Sci-Fi|Thriller</th>\n",
       "      <td>238</td>\n",
       "      <td>3.8</td>\n",
       "    </tr>\n",
       "    <tr>\n",
       "      <th>110</th>\n",
       "      <th>Braveheart</th>\n",
       "      <th>Action|Drama|War</th>\n",
       "      <td>237</td>\n",
       "      <td>4.0</td>\n",
       "    </tr>\n",
       "    <tr>\n",
       "      <th>589</th>\n",
       "      <th>Terminator 2: Judgment Day</th>\n",
       "      <th>Action|Sci-Fi</th>\n",
       "      <td>224</td>\n",
       "      <td>4.0</td>\n",
       "    </tr>\n",
       "    <tr>\n",
       "      <th>527</th>\n",
       "      <th>Schindler's List</th>\n",
       "      <th>Drama|War</th>\n",
       "      <td>220</td>\n",
       "      <td>4.2</td>\n",
       "    </tr>\n",
       "    <tr>\n",
       "      <th>2959</th>\n",
       "      <th>Fight Club</th>\n",
       "      <th>Action|Crime|Drama|Thriller</th>\n",
       "      <td>218</td>\n",
       "      <td>4.3</td>\n",
       "    </tr>\n",
       "    <tr>\n",
       "      <th>1</th>\n",
       "      <th>Toy Story</th>\n",
       "      <th>Adventure|Animation|Children|Comedy|Fantasy</th>\n",
       "      <td>215</td>\n",
       "      <td>3.9</td>\n",
       "    </tr>\n",
       "    <tr>\n",
       "      <th>1196</th>\n",
       "      <th>Star Wars: Episode V - The Empire Strikes Back</th>\n",
       "      <th>Action|Adventure|Sci-Fi</th>\n",
       "      <td>211</td>\n",
       "      <td>4.2</td>\n",
       "    </tr>\n",
       "    <tr>\n",
       "      <th>50</th>\n",
       "      <th>Usual Suspects, The</th>\n",
       "      <th>Crime|Mystery|Thriller</th>\n",
       "      <td>204</td>\n",
       "      <td>4.2</td>\n",
       "    </tr>\n",
       "    <tr>\n",
       "      <th>2858</th>\n",
       "      <th>American Beauty</th>\n",
       "      <th>Drama|Romance</th>\n",
       "      <td>204</td>\n",
       "      <td>4.1</td>\n",
       "    </tr>\n",
       "  </tbody>\n",
       "</table>\n",
       "</div>"
      ],
      "text/plain": [
       "                                                                                                    Num_ratings  \\\n",
       "movieId title                                          genres                                                     \n",
       "356     Forrest Gump                                   Comedy|Drama|Romance|War                             329   \n",
       "318     Shawshank Redemption, The                      Crime|Drama                                          317   \n",
       "296     Pulp Fiction                                   Comedy|Crime|Drama|Thriller                          307   \n",
       "593     Silence of the Lambs, The                      Crime|Horror|Thriller                                279   \n",
       "2571    Matrix, The                                    Action|Sci-Fi|Thriller                               278   \n",
       "260     Star Wars: Episode IV - A New Hope             Action|Adventure|Sci-Fi                              251   \n",
       "480     Jurassic Park                                  Action|Adventure|Sci-Fi|Thriller                     238   \n",
       "110     Braveheart                                     Action|Drama|War                                     237   \n",
       "589     Terminator 2: Judgment Day                     Action|Sci-Fi                                        224   \n",
       "527     Schindler's List                               Drama|War                                            220   \n",
       "2959    Fight Club                                     Action|Crime|Drama|Thriller                          218   \n",
       "1       Toy Story                                      Adventure|Animation|Children|Comedy|Fantasy          215   \n",
       "1196    Star Wars: Episode V - The Empire Strikes Back Action|Adventure|Sci-Fi                              211   \n",
       "50      Usual Suspects, The                            Crime|Mystery|Thriller                               204   \n",
       "2858    American Beauty                                Drama|Romance                                        204   \n",
       "\n",
       "                                                                                                    Average_rating  \n",
       "movieId title                                          genres                                                       \n",
       "356     Forrest Gump                                   Comedy|Drama|Romance|War                                4.2  \n",
       "318     Shawshank Redemption, The                      Crime|Drama                                             4.4  \n",
       "296     Pulp Fiction                                   Comedy|Crime|Drama|Thriller                             4.2  \n",
       "593     Silence of the Lambs, The                      Crime|Horror|Thriller                                   4.2  \n",
       "2571    Matrix, The                                    Action|Sci-Fi|Thriller                                  4.2  \n",
       "260     Star Wars: Episode IV - A New Hope             Action|Adventure|Sci-Fi                                 4.2  \n",
       "480     Jurassic Park                                  Action|Adventure|Sci-Fi|Thriller                        3.8  \n",
       "110     Braveheart                                     Action|Drama|War                                        4.0  \n",
       "589     Terminator 2: Judgment Day                     Action|Sci-Fi                                           4.0  \n",
       "527     Schindler's List                               Drama|War                                               4.2  \n",
       "2959    Fight Club                                     Action|Crime|Drama|Thriller                             4.3  \n",
       "1       Toy Story                                      Adventure|Animation|Children|Comedy|Fantasy             3.9  \n",
       "1196    Star Wars: Episode V - The Empire Strikes Back Action|Adventure|Sci-Fi                                 4.2  \n",
       "50      Usual Suspects, The                            Crime|Mystery|Thriller                                  4.2  \n",
       "2858    American Beauty                                Drama|Romance                                           4.1  "
      ]
     },
     "execution_count": 49,
     "metadata": {},
     "output_type": "execute_result"
    }
   ],
   "source": [
    "movies_rating_df.sort_values('count', ascending=False, inplace=True)\n",
    "movies_rating_df.rename(columns={'count' : 'Num_ratings', 'mean': 'Average_rating'}, inplace=True)\n",
    "movies_rating_df.head(15)"
   ]
  },
  {
   "cell_type": "code",
   "execution_count": 50,
   "metadata": {},
   "outputs": [
    {
     "data": {
      "text/html": [
       "<div>\n",
       "<style scoped>\n",
       "    .dataframe tbody tr th:only-of-type {\n",
       "        vertical-align: middle;\n",
       "    }\n",
       "\n",
       "    .dataframe tbody tr th {\n",
       "        vertical-align: top;\n",
       "    }\n",
       "\n",
       "    .dataframe thead th {\n",
       "        text-align: right;\n",
       "    }\n",
       "</style>\n",
       "<table border=\"1\" class=\"dataframe\">\n",
       "  <thead>\n",
       "    <tr style=\"text-align: right;\">\n",
       "      <th></th>\n",
       "      <th></th>\n",
       "      <th></th>\n",
       "      <th>Num_ratings</th>\n",
       "      <th>Bayesian_rating</th>\n",
       "    </tr>\n",
       "    <tr>\n",
       "      <th>movieId</th>\n",
       "      <th>title</th>\n",
       "      <th>genres</th>\n",
       "      <th></th>\n",
       "      <th></th>\n",
       "    </tr>\n",
       "  </thead>\n",
       "  <tbody>\n",
       "    <tr>\n",
       "      <th>318</th>\n",
       "      <th>Shawshank Redemption, The</th>\n",
       "      <th>Crime|Drama</th>\n",
       "      <td>317</td>\n",
       "      <td>3.849204</td>\n",
       "    </tr>\n",
       "    <tr>\n",
       "      <th>356</th>\n",
       "      <th>Forrest Gump</th>\n",
       "      <th>Comedy|Drama|Romance|War</th>\n",
       "      <td>329</td>\n",
       "      <td>3.777805</td>\n",
       "    </tr>\n",
       "    <tr>\n",
       "      <th>296</th>\n",
       "      <th>Pulp Fiction</th>\n",
       "      <th>Comedy|Crime|Drama|Thriller</th>\n",
       "      <td>307</td>\n",
       "      <td>3.766295</td>\n",
       "    </tr>\n",
       "    <tr>\n",
       "      <th>593</th>\n",
       "      <th>Silence of the Lambs, The</th>\n",
       "      <th>Crime|Horror|Thriller</th>\n",
       "      <td>279</td>\n",
       "      <td>3.750706</td>\n",
       "    </tr>\n",
       "    <tr>\n",
       "      <th>2571</th>\n",
       "      <th>Matrix, The</th>\n",
       "      <th>Action|Sci-Fi|Thriller</th>\n",
       "      <td>278</td>\n",
       "      <td>3.750129</td>\n",
       "    </tr>\n",
       "  </tbody>\n",
       "</table>\n",
       "</div>"
      ],
      "text/plain": [
       "                                                               Num_ratings  \\\n",
       "movieId title                     genres                                     \n",
       "318     Shawshank Redemption, The Crime|Drama                          317   \n",
       "356     Forrest Gump              Comedy|Drama|Romance|War             329   \n",
       "296     Pulp Fiction              Comedy|Crime|Drama|Thriller          307   \n",
       "593     Silence of the Lambs, The Crime|Horror|Thriller                279   \n",
       "2571    Matrix, The               Action|Sci-Fi|Thriller               278   \n",
       "\n",
       "                                                               Bayesian_rating  \n",
       "movieId title                     genres                                        \n",
       "318     Shawshank Redemption, The Crime|Drama                         3.849204  \n",
       "356     Forrest Gump              Comedy|Drama|Romance|War            3.777805  \n",
       "296     Pulp Fiction              Comedy|Crime|Drama|Thriller         3.766295  \n",
       "593     Silence of the Lambs, The Crime|Horror|Thriller               3.750706  \n",
       "2571    Matrix, The               Action|Sci-Fi|Thriller              3.750129  "
      ]
     },
     "execution_count": 50,
     "metadata": {},
     "output_type": "execute_result"
    }
   ],
   "source": [
    "#let's use the beysian average to calculate a more accurate rating\n",
    "#this is because a review of 5 with only 1 review is worthless, while a 4.2 with multiple reviews is more reliable\n",
    "\n",
    "def calculate_weighted_rating(df, C, m):\n",
    "    \"\"\"\n",
    "    Calculate Bayesian weighted rating for each movie in the DataFrame.\n",
    "\n",
    "    Parameters:\n",
    "    df (DataFrame): DataFrame containing movie ratings.\n",
    "    C (float): Average rating across all movies (prior assumption).\n",
    "    m (int): Minimum number of ratings required to be considered.\n",
    "\n",
    "    Returns:\n",
    "    DataFrame: DataFrame with Bayesian weighted rating column added.\n",
    "    \"\"\"\n",
    "    \n",
    "    # Add the Bayesian weighted rating as a new column in the DataFrame\n",
    "    df['Bayesian_rating'] = (df['Num_ratings'] / (df['Num_ratings'] + m)) * df['Average_rating'] + (m / (df['Num_ratings'] + m)) * C\n",
    "\n",
    "    return df\n",
    "\n",
    "C = round(ratings_df['rating'].mean(), 2)\n",
    "movies_rating_df = calculate_weighted_rating(movies_rating_df, C, 500)\n",
    "movies_rating_df.drop(columns='Average_rating', inplace=True)\n",
    "movies_rating_df.sort_values(by='Bayesian_rating', ascending=False, inplace=True)\n",
    "movies_rating_df.head()"
   ]
  },
  {
   "cell_type": "markdown",
   "metadata": {},
   "source": [
    "# Recommendation system"
   ]
  },
  {
   "cell_type": "code",
   "execution_count": 51,
   "metadata": {},
   "outputs": [],
   "source": [
    "from scipy.sparse import csr_matrix\n",
    "\n",
    "def create_X(df):\n",
    "    \"\"\"\n",
    "    Generates a sparse matrix from ratings dataframe.\n",
    "    \n",
    "    Args:\n",
    "        df: pandas dataframe containing 3 columns (userId, movieId, rating)\n",
    "    \n",
    "    Returns:\n",
    "        X: sparse matrix\n",
    "        user_mapper: dict that maps user id's to user indices\n",
    "        user_inv_mapper: dict that maps user indices to user id's\n",
    "        movie_mapper: dict that maps movie id's to movie indices\n",
    "        movie_inv_mapper: dict that maps movie indices to movie id's\n",
    "    \"\"\"\n",
    "    M = df['userId'].nunique()\n",
    "    N = df['movieId'].nunique()\n",
    "\n",
    "    user_mapper = dict(zip(np.unique(df[\"userId\"]), list(range(M))))\n",
    "    movie_mapper = dict(zip(np.unique(df[\"movieId\"]), list(range(N))))\n",
    "    \n",
    "    user_inv_mapper = dict(zip(list(range(M)), np.unique(df[\"userId\"])))\n",
    "    movie_inv_mapper = dict(zip(list(range(N)), np.unique(df[\"movieId\"])))\n",
    "    \n",
    "    user_index = [user_mapper[i] for i in df['userId']]\n",
    "    item_index = [movie_mapper[i] for i in df['movieId']]\n",
    "\n",
    "    X = csr_matrix((df[\"rating\"], (user_index,item_index)), shape=(M,N))\n",
    "    \n",
    "    return X, user_mapper, movie_mapper, user_inv_mapper, movie_inv_mapper\n",
    "\n",
    "X, user_mapper, movie_mapper, user_inv_mapper, movie_inv_mapper = create_X(ratings_df)"
   ]
  },
  {
   "cell_type": "markdown",
   "metadata": {},
   "source": [
    "## k-nn"
   ]
  },
  {
   "cell_type": "code",
   "execution_count": 52,
   "metadata": {},
   "outputs": [],
   "source": [
    "from sklearn.neighbors import NearestNeighbors\n",
    "\n",
    "def find_similar_movies(movie_id, X, movie_mapper, movie_inv_mapper, k, metric='cosine'):\n",
    "    \"\"\"\n",
    "    Finds k-nearest neighbours for a given movie id.\n",
    "    \n",
    "    Args:\n",
    "        movie_id: id of the movie of interest\n",
    "        X: user-item utility matrix\n",
    "        k: number of similar movies to retrieve\n",
    "        metric: distance metric for kNN calculations\n",
    "    \n",
    "    Output: returns list of k similar movie ID's\n",
    "    \"\"\"\n",
    "    X = X.T\n",
    "    neighbour_ids = []\n",
    "    \n",
    "    movie_ind = movie_mapper[movie_id]\n",
    "    movie_vec = X[movie_ind]\n",
    "    if isinstance(movie_vec, (np.ndarray)):\n",
    "        movie_vec = movie_vec.reshape(1,-1)\n",
    "    # use k+1 since kNN output includes the movieId of interest\n",
    "    kNN = NearestNeighbors(n_neighbors=k+1, algorithm=\"brute\", metric=metric)\n",
    "    kNN.fit(X)\n",
    "    neighbour = kNN.kneighbors(movie_vec, return_distance=False)\n",
    "    for i in range(0,k):\n",
    "        n = neighbour.item(i)\n",
    "        neighbour_ids.append(movie_inv_mapper[n])\n",
    "    neighbour_ids.pop(0)\n",
    "    return neighbour_ids"
   ]
  },
  {
   "cell_type": "code",
   "execution_count": 53,
   "metadata": {},
   "outputs": [
    {
     "data": {
      "text/plain": [
       "[3114, 480, 780, 260, 356, 364, 1210, 648, 1265]"
      ]
     },
     "execution_count": 53,
     "metadata": {},
     "output_type": "execute_result"
    }
   ],
   "source": [
    "similar_movies = find_similar_movies(1, X, movie_mapper, movie_inv_mapper, k=10)\n",
    "similar_movies\n"
   ]
  },
  {
   "cell_type": "code",
   "execution_count": 54,
   "metadata": {},
   "outputs": [
    {
     "name": "stdout",
     "output_type": "stream",
     "text": [
      "Because you watched Toy Story:\n",
      "Toy Story 2\n",
      "Jurassic Park\n",
      "Independence Day (a.k.a. ID4)\n",
      "Star Wars: Episode IV - A New Hope\n",
      "Forrest Gump\n",
      "Lion King, The\n",
      "Star Wars: Episode VI - Return of the Jedi\n",
      "Mission: Impossible\n",
      "Groundhog Day\n"
     ]
    }
   ],
   "source": [
    "movie_titles = dict(zip(movies_df['movieId'], movies_df['title']))\n",
    "\n",
    "movie_id = 1\n",
    "\n",
    "similar_movies = find_similar_movies(movie_id, X, movie_mapper, movie_inv_mapper, metric='cosine', k=10)\n",
    "movie_title = movie_titles[movie_id]\n",
    "\n",
    "print(f\"Because you watched {movie_title}:\")\n",
    "for i in similar_movies:\n",
    "    print(movie_titles[i])"
   ]
  },
  {
   "cell_type": "code",
   "execution_count": 55,
   "metadata": {},
   "outputs": [
    {
     "name": "stdout",
     "output_type": "stream",
     "text": [
      "There are 9454 unique movies in our movies dataset.\n",
      "Dimensions of our genres cosine similarity matrix: (9454, 9454)\n"
     ]
    }
   ],
   "source": [
    "n_movies = movies_df['movieId'].nunique()\n",
    "print(f\"There are {n_movies} unique movies in our movies dataset.\")\n",
    "movies_df['genres'] = movies_df['genres'].apply(lambda x: x.split(\"|\"))\n",
    "movies_df.drop(columns=['imdbId', 'titleLower', 'year', 'url'], inplace=True)\n",
    "\n",
    "genres = set(g for G in movies_df['genres'] for g in G)\n",
    "\n",
    "for g in genres:\n",
    "    movies_df[g] = movies_df.genres.transform(lambda x: int(g in x))\n",
    "    \n",
    "    \n",
    "movie_genres = movies_df.drop(columns=['movieId', 'title','genres'])\n",
    "movie_genres.head()\n",
    "from sklearn.metrics.pairwise import cosine_similarity\n",
    "\n",
    "cosine_sim = cosine_similarity(movie_genres, movie_genres)\n",
    "print(f\"Dimensions of our genres cosine similarity matrix: {cosine_sim.shape}\")"
   ]
  },
  {
   "cell_type": "code",
   "execution_count": 56,
   "metadata": {},
   "outputs": [
    {
     "name": "stdout",
     "output_type": "stream",
     "text": [
      "Index(['Action', 'Romance', 'Musical', 'Fantasy', 'War', 'Thriller', 'Sci-Fi',\n",
      "       'Mystery', 'IMAX', 'Comedy', '(no genres listed)', 'Animation',\n",
      "       'Horror', 'Western', 'Drama', 'Adventure', 'Crime', 'Film-Noir',\n",
      "       'Children', 'Documentary'],\n",
      "      dtype='object')\n"
     ]
    }
   ],
   "source": [
    "print(movie_genres.columns)"
   ]
  },
  {
   "cell_type": "code",
   "execution_count": 57,
   "metadata": {},
   "outputs": [
    {
     "name": "stderr",
     "output_type": "stream",
     "text": [
      "c:\\Users\\João\\AppData\\Local\\Programs\\Python\\Python311\\Lib\\site-packages\\fuzzywuzzy\\fuzz.py:11: UserWarning: Using slow pure-python SequenceMatcher. Install python-Levenshtein to remove this warning\n",
      "  warnings.warn('Using slow pure-python SequenceMatcher. Install python-Levenshtein to remove this warning')\n"
     ]
    }
   ],
   "source": [
    "from fuzzywuzzy import process\n",
    "\n",
    "def movie_finder(title):\n",
    "    all_titles = movies_df['title'].tolist()\n",
    "    closest_match = process.extractOne(title, all_titles)\n",
    "    return closest_match[0]"
   ]
  },
  {
   "cell_type": "code",
   "execution_count": 58,
   "metadata": {},
   "outputs": [
    {
     "data": {
      "text/plain": [
       "'Jumanji'"
      ]
     },
     "execution_count": 58,
     "metadata": {},
     "output_type": "execute_result"
    }
   ],
   "source": [
    "title = movie_finder('jumanji')\n",
    "title"
   ]
  },
  {
   "cell_type": "code",
   "execution_count": 59,
   "metadata": {},
   "outputs": [
    {
     "name": "stdout",
     "output_type": "stream",
     "text": [
      "Movie index for Jumanji: 1\n"
     ]
    }
   ],
   "source": [
    "movie_idx = dict(zip(movies_df['title'], list(movies_df.index)))\n",
    "idx = movie_idx[title]\n",
    "print(f\"Movie index for Jumanji: {idx}\")"
   ]
  },
  {
   "cell_type": "code",
   "execution_count": 60,
   "metadata": {},
   "outputs": [],
   "source": [
    "n_recommendations=10\n",
    "sim_scores = list(enumerate(cosine_sim[idx]))\n",
    "sim_scores = sorted(sim_scores, key=lambda x: x[1], reverse=True)\n",
    "sim_scores = sim_scores[1:(n_recommendations+1)]\n",
    "similar_movies = [i[0] for i in sim_scores]"
   ]
  },
  {
   "cell_type": "code",
   "execution_count": 61,
   "metadata": {},
   "outputs": [
    {
     "name": "stdout",
     "output_type": "stream",
     "text": [
      "Because you watched Jumanji:\n"
     ]
    },
    {
     "data": {
      "text/plain": [
       "53                            Indian in the Cupboard, The\n",
       "109                            NeverEnding Story III, The\n",
       "765                              Escape to Witch Mountain\n",
       "1511                   Darby O'Gill and the Little People\n",
       "1552                                         Return to Oz\n",
       "1613                               NeverEnding Story, The\n",
       "1614          NeverEnding Story II: The Next Chapter, The\n",
       "1795                               Santa Claus: The Movie\n",
       "3568    Harry Potter and the Sorcerer's Stone (a.k.a. ...\n",
       "6007    Chronicles of Narnia: The Lion, the Witch and ...\n",
       "Name: title, dtype: object"
      ]
     },
     "execution_count": 61,
     "metadata": {},
     "output_type": "execute_result"
    }
   ],
   "source": [
    "print(f\"Because you watched {title}:\")\n",
    "movies_df['title'].iloc[similar_movies]"
   ]
  },
  {
   "cell_type": "code",
   "execution_count": 62,
   "metadata": {},
   "outputs": [
    {
     "name": "stdout",
     "output_type": "stream",
     "text": [
      "Because you watched Toy Story:\n",
      "1702                                       Antz\n",
      "2351                                Toy Story 2\n",
      "2803    Adventures of Rocky and Bullwinkle, The\n",
      "2994                  Emperor's New Groove, The\n",
      "3562                             Monsters, Inc.\n",
      "Name: title, dtype: object\n"
     ]
    }
   ],
   "source": [
    "def get_content_based_recommendations(title_string, n_recommendations=10):\n",
    "    title = movie_finder(title_string)\n",
    "    idx = movie_idx[title]\n",
    "    sim_scores = list(enumerate(cosine_sim[idx]))\n",
    "    sim_scores = sorted(sim_scores, key=lambda x: x[1], reverse=True)\n",
    "    sim_scores = sim_scores[1:(n_recommendations+1)]\n",
    "    similar_movies = [i[0] for i in sim_scores]\n",
    "    print(f\"Because you watched {title}:\")\n",
    "    print(movies_df['title'].iloc[similar_movies])\n",
    "get_content_based_recommendations('toy story', 5)"
   ]
  },
  {
   "cell_type": "markdown",
   "metadata": {},
   "source": [
    "## Matrix factorization"
   ]
  },
  {
   "cell_type": "code",
   "execution_count": 63,
   "metadata": {},
   "outputs": [
    {
     "data": {
      "text/plain": [
       "(9724, 20)"
      ]
     },
     "execution_count": 63,
     "metadata": {},
     "output_type": "execute_result"
    }
   ],
   "source": [
    "from sklearn.decomposition import TruncatedSVD\n",
    "\n",
    "svd = TruncatedSVD(n_components=20, n_iter=10)\n",
    "Q = svd.fit_transform(X.T)\n",
    "Q.shape\n"
   ]
  },
  {
   "cell_type": "code",
   "execution_count": 64,
   "metadata": {},
   "outputs": [
    {
     "name": "stdout",
     "output_type": "stream",
     "text": [
      "Because you watched Toy Story:\n",
      "Home Alone\n",
      "Jurassic Park\n",
      "Aladdin\n",
      "Willy Wonka & the Chocolate Factory\n",
      "Back to the Future\n",
      "Groundhog Day\n",
      "Forrest Gump\n",
      "Star Wars: Episode IV - A New Hope\n",
      "Princess Bride, The\n"
     ]
    }
   ],
   "source": [
    "movie_id = 1\n",
    "similar_movies = find_similar_movies(movie_id, Q.T, movie_mapper, movie_inv_mapper, metric='cosine', k=10)\n",
    "movie_title = movie_titles[movie_id]\n",
    "\n",
    "print(f\"Because you watched {movie_title}:\")\n",
    "for i in similar_movies:\n",
    "    print(movie_titles[i])"
   ]
  }
 ],
 "metadata": {
  "kernelspec": {
   "display_name": "Python 3",
   "language": "python",
   "name": "python3"
  },
  "language_info": {
   "codemirror_mode": {
    "name": "ipython",
    "version": 3
   },
   "file_extension": ".py",
   "mimetype": "text/x-python",
   "name": "python",
   "nbconvert_exporter": "python",
   "pygments_lexer": "ipython3",
   "version": "3.11.7"
  }
 },
 "nbformat": 4,
 "nbformat_minor": 2
}
