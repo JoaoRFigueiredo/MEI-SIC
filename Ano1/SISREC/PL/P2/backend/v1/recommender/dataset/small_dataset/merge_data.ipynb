{
 "cells": [
  {
   "cell_type": "code",
   "execution_count": 10,
   "metadata": {},
   "outputs": [],
   "source": [
    "import pandas as pd\n",
    "import os\n",
    "\n"
   ]
  },
  {
   "cell_type": "code",
   "execution_count": 9,
   "metadata": {},
   "outputs": [
    {
     "name": "stdout",
     "output_type": "stream",
     "text": [
      "Index(['movieId', 'title_x', 'genres_x', 'title_y', 'genres_y', 'imdbId',\n",
      "       'year', 'url', 'titleLower'],\n",
      "      dtype='object')\n"
     ]
    }
   ],
   "source": [
    "movies_df = pd.read_csv('movies.csv')\n",
    "movies_full = pd.read_csv('movies_full.csv')\n",
    "\n",
    "movies_full_2 = movies_df.merge(movies_full, on='movieId', how='inner')\n",
    "\n",
    "print(movies_full_2.columns)\n",
    "movies_full_2.drop(columns=['title_x', 'genres_y'], inplace=True)\n",
    "movies_full_2.rename(columns={'title_y': 'title', 'genres_x': 'genres'}, inplace=True)\n",
    "movies_full_2 = movies_full_2[['movieId', 'title', 'genres', 'imdbId', 'year', 'url', 'titleLower']]\n",
    "movies_full_2.to_csv('movies_full_2.csv', index=False)"
   ]
  },
  {
   "cell_type": "code",
   "execution_count": 18,
   "metadata": {},
   "outputs": [
    {
     "name": "stdout",
     "output_type": "stream",
     "text": [
      "movieIds in movies_df but not in movies_full:\n",
      "        userId  movieId  rating   timestamp\n",
      "0            1        1     4.0   964982703\n",
      "1            1        3     4.0   964981247\n",
      "2            1        6     4.0   964982224\n",
      "3            1       47     5.0   964983815\n",
      "4            1       50     5.0   964982931\n",
      "...        ...      ...     ...         ...\n",
      "100831     610   166534     4.0  1493848402\n",
      "100832     610   168248     5.0  1493850091\n",
      "100833     610   168250     5.0  1494273047\n",
      "100834     610   168252     5.0  1493846352\n",
      "100835     610   170875     3.0  1493846415\n",
      "\n",
      "[100250 rows x 4 columns]\n"
     ]
    }
   ],
   "source": [
    "movies_df = pd.read_csv('movies.csv')\n",
    "movies_full = pd.read_csv('movies_full_2.csv')\n",
    "\n",
    "# Find movieIds in movies_df but not in movies_full\n",
    "diff_df_to_full = movies_df[~movies_df['movieId'].isin(movies_full['movieId'])]\n",
    "\n",
    "# Find movieIds in movies_full but not in movies_df\n",
    "diff_full_to_df = movies_full[~movies_full['movieId'].isin(movies_df['movieId'])]\n",
    "\n",
    "# Display the results\n",
    "print(\"movieIds in movies_df but not in movies_full:\")\n",
    "movie_ids_list = diff_df_to_full['movieId'].tolist()\n",
    "\n",
    "ratings_df = pd.read_csv('ratings.csv')\n",
    "\n",
    "# Remove rows where movieId is in movie_ids_list\n",
    "filtered_ratings_df = ratings_df[~ratings_df['movieId'].isin(movie_ids_list)]\n",
    "\n",
    "# Display the result\n",
    "print(filtered_ratings_df)\n",
    "filtered_ratings_df.to_csv('ratings_2.csv', index=False)\n"
   ]
  }
 ],
 "metadata": {
  "kernelspec": {
   "display_name": "Python 3",
   "language": "python",
   "name": "python3"
  },
  "language_info": {
   "codemirror_mode": {
    "name": "ipython",
    "version": 3
   },
   "file_extension": ".py",
   "mimetype": "text/x-python",
   "name": "python",
   "nbconvert_exporter": "python",
   "pygments_lexer": "ipython3",
   "version": "3.11.7"
  }
 },
 "nbformat": 4,
 "nbformat_minor": 2
}
