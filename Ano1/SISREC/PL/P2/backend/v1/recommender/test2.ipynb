{
 "cells": [
  {
   "cell_type": "code",
   "execution_count": 23,
   "metadata": {},
   "outputs": [
    {
     "name": "stdout",
     "output_type": "stream",
     "text": [
      "imdb\n",
      "tt7131622    23\n",
      "tt1172994    14\n",
      "tt0808399    13\n",
      "tt0167260    12\n",
      "tt0087799    11\n",
      "             ..\n",
      "tt0097335     1\n",
      "tt2459100     1\n",
      "tt1937118     1\n",
      "tt2395385     1\n",
      "tt0055323     1\n",
      "Name: count, Length: 56898, dtype: int64\n"
     ]
    }
   ],
   "source": [
    "import pandas as pd\n",
    "df_movie = pd.read_csv('./dataset/movies.csv')\n",
    "df_links = pd.read_csv('./dataset/links.csv')\n",
    "\n",
    "# Filter the DataFrame to include only rows where the 'year' column has values below 1900\n",
    "merged_df = pd.merge(df_movie, df_links[['movieId', 'imdbId']], on='movieId', how='inner')\n",
    "\n",
    "# Display the merged DataFrame\n",
    "print(merged_df)\n",
    "\n",
    "# Display the counts\n",
    "print(a)"
   ]
  }
 ],
 "metadata": {
  "kernelspec": {
   "display_name": "Python 3",
   "language": "python",
   "name": "python3"
  },
  "language_info": {
   "codemirror_mode": {
    "name": "ipython",
    "version": 3
   },
   "file_extension": ".py",
   "mimetype": "text/x-python",
   "name": "python",
   "nbconvert_exporter": "python",
   "pygments_lexer": "ipython3",
   "version": "3.11.1"
  },
  "orig_nbformat": 4
 },
 "nbformat": 4,
 "nbformat_minor": 2
}
