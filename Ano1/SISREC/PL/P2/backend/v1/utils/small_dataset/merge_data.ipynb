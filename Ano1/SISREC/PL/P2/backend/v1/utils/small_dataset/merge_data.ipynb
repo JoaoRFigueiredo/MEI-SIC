{
 "cells": [
  {
   "cell_type": "code",
   "execution_count": 8,
   "metadata": {},
   "outputs": [],
   "source": [
    "import pandas as pd\n",
    "\n",
    "\n"
   ]
  },
  {
   "cell_type": "code",
   "execution_count": 9,
   "metadata": {},
   "outputs": [
    {
     "name": "stdout",
     "output_type": "stream",
     "text": [
      "Index(['movieId', 'title_x', 'genres_x', 'title_y', 'genres_y', 'imdbId',\n",
      "       'year', 'url', 'titleLower'],\n",
      "      dtype='object')\n"
     ]
    }
   ],
   "source": [
    "movies_df = pd.read_csv('movies.csv')\n",
    "movies_full = pd.read_csv('movies_full.csv')\n",
    "\n",
    "movies_full_2 = movies_df.merge(movies_full, on='movieId', how='inner')\n",
    "\n",
    "print(movies_full_2.columns)\n",
    "movies_full_2.drop(columns=['title_x', 'genres_y'], inplace=True)\n",
    "movies_full_2.rename(columns={'title_y': 'title', 'genres_x': 'genres'}, inplace=True)\n",
    "movies_full_2 = movies_full_2[['movieId', 'title', 'genres', 'imdbId', 'year', 'url', 'titleLower']]\n",
    "movies_full_2.to_csv('movies_full_2.csv', index=False)"
   ]
  }
 ],
 "metadata": {
  "kernelspec": {
   "display_name": "Python 3",
   "language": "python",
   "name": "python3"
  },
  "language_info": {
   "codemirror_mode": {
    "name": "ipython",
    "version": 3
   },
   "file_extension": ".py",
   "mimetype": "text/x-python",
   "name": "python",
   "nbconvert_exporter": "python",
   "pygments_lexer": "ipython3",
   "version": "3.11.7"
  }
 },
 "nbformat": 4,
 "nbformat_minor": 2
}
