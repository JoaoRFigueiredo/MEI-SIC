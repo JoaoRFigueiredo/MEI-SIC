{
 "cells": [
  {
   "cell_type": "code",
   "execution_count": 2,
   "metadata": {},
   "outputs": [
    {
     "name": "stdout",
     "output_type": "stream",
     "text": [
      "      movieId                           title                         genres  \\\n",
      "0         318       Shawshank Redemption, The                    Crime|Drama   \n",
      "1         356                    Forrest Gump       Comedy|Drama|Romance|War   \n",
      "2         296                    Pulp Fiction    Comedy|Crime|Drama|Thriller   \n",
      "3         593       Silence of the Lambs, The          Crime|Horror|Thriller   \n",
      "4        2571                     Matrix, The         Action|Sci-Fi|Thriller   \n",
      "...       ...                             ...                            ...   \n",
      "9413       19  Ace Ventura: When Nature Calls                         Comedy   \n",
      "9414      344      Ace Ventura: Pet Detective                         Comedy   \n",
      "9415      435                       Coneheads                  Comedy|Sci-Fi   \n",
      "9416     2701                  Wild Wild West   Action|Comedy|Sci-Fi|Western   \n",
      "9417      153                  Batman Forever  Action|Adventure|Comedy|Crime   \n",
      "\n",
      "        year  decade                                                url  \\\n",
      "0     1994.0  1990.0  https://m.media-amazon.com/images/M/MV5BMDFkYT...   \n",
      "1     1994.0  1990.0  https://m.media-amazon.com/images/M/MV5BNWIwOD...   \n",
      "2     1994.0  1990.0  https://m.media-amazon.com/images/M/MV5BNGNhMD...   \n",
      "3     1991.0  1990.0  https://m.media-amazon.com/images/M/MV5BNjNhZT...   \n",
      "4     1999.0  1990.0  https://m.media-amazon.com/images/M/MV5BNzQzOT...   \n",
      "...      ...     ...                                                ...   \n",
      "9413  1995.0  1990.0  https://m.media-amazon.com/images/M/MV5BNGFiYT...   \n",
      "9414  1994.0  1990.0  https://m.media-amazon.com/images/M/MV5BYmVhNm...   \n",
      "9415  1993.0  1990.0  https://m.media-amazon.com/images/M/MV5BYTNjNG...   \n",
      "9416  1999.0  1990.0  https://m.media-amazon.com/images/M/MV5BYmYyMT...   \n",
      "9417  1995.0  1990.0  https://m.media-amazon.com/images/M/MV5BNDdjYm...   \n",
      "\n",
      "      count  weighted_rating  \n",
      "0       317         3.849204  \n",
      "1       329         3.777805  \n",
      "2       307         3.766295  \n",
      "3       279         3.750706  \n",
      "4       278         3.750129  \n",
      "...     ...              ...  \n",
      "9413     88         3.380272  \n",
      "9414    161         3.378215  \n",
      "9415     63         3.376909  \n",
      "9416     53         3.375407  \n",
      "9417    137         3.370958  \n",
      "\n",
      "[9418 rows x 8 columns]\n"
     ]
    }
   ],
   "source": [
    "import pandas as pd\n",
    "\n",
    "movies_rating = pd.read_csv('movies_rating.csv')\n",
    "movies_rating.rename(columns={'Num_ratings': 'count', 'Bayesian_rating' : 'weighted_rating'}, inplace=True)\n",
    "print(movies_rating)\n"
   ]
  }
 ],
 "metadata": {
  "kernelspec": {
   "display_name": "Python 3",
   "language": "python",
   "name": "python3"
  },
  "language_info": {
   "codemirror_mode": {
    "name": "ipython",
    "version": 3
   },
   "file_extension": ".py",
   "mimetype": "text/x-python",
   "name": "python",
   "nbconvert_exporter": "python",
   "pygments_lexer": "ipython3",
   "version": "3.11.7"
  }
 },
 "nbformat": 4,
 "nbformat_minor": 2
}
